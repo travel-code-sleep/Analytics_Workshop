{
 "cells": [
  {
   "cell_type": "markdown",
   "metadata": {
    "_uuid": "f1d109784ee182dfe4de23e72429f93e35906d7b"
   },
   "source": [
    "# Prediction of Burn Area using Meteorological Data\n",
    "\n",
    "### My goal with this kernel is to provide a reusable end-to-end Regression framework that is deployable in real world. It is imperative that the users adapt it to the dataset in hand and make small necessary changes, but the overall process and class-objects given can adapt to any regression system.\n",
    "\n",
    "### Also, this kernel showcases how Scikit-Learn library can simplify and automate data preprocessing, model building and predicting for practical deployment.\n",
    "\n",
    "### I chose this dataset because this problem showcases several fundamental challenges in data science, that are not always easy to overcome: - such as highly left-right skewed data, extreme outliers, underfitting, overfitting, lack of enough examples etc. Many of these problems can be dealt with by collecting more data, meaningful feature engineering, and may be removing rare cases or modelling with different techniques that can handle outliers much better, but that is not the motivation behind this kernel.\n",
    "\n",
    "#### This dataset covers meteorological and spatiotemporal data for forest fires (between 2000 and 2003) in Portugal’s Montesinho Natural Park, with 13 attributes each for 517 such incidents. Our target attribute from these 13 is ‘area’ - total burned area in hectares (ha). The corresponding weather data is that which is registered by sensors when the fire was detected (or first broke out). We have: temp, RH (relative humidity), wind (speed), rain (accumulated precipitation over the last 30 minutes).\n",
    "\n",
    "#### We also have DMC, DC, ISI and FFMC are components of the Canadian Forest Fire Weather Index (FWI) System, which measures the effects of fuel moisture and wind on fire behavior. These have been calculated using consecutive daily observations of temperature, relative humidity, wind speed, and 24-hour rainfall - i.e. these are time-lagged and not instantaneous values, unlike the four weather variables. Roughly, the higher these components, the more the expected severity of the fire.\n",
    "\n",
    "#### Spatiotemporal data includes the month and day of the week that the incident occurred, and X and Y co-ordinates of the incident with respect to the park. Smaller fires are much more frequent. This is the case in this dataset, as well as with incidences of wildfires around the world, making this a difficult regression problem."
   ]
  },
  {
   "cell_type": "code",
   "execution_count": 1,
   "metadata": {
    "_cell_guid": "b1076dfc-b9ad-4769-8c92-a6c4dae69d19",
    "_uuid": "8f2839f25d086af736a60e9eeb907d3b93b6e0e5"
   },
   "outputs": [],
   "source": [
    "#support python 2&3\n",
    "from __future__ import division, print_function, unicode_literals\n",
    "\n",
    "#common imports\n",
    "import os\n",
    "import numpy as np\n",
    "import pandas as pd\n",
    "import matplotlib\n",
    "import matplotlib.pyplot as plt\n",
    "import seaborn as sns\n",
    "\n",
    "#make notebook's output stable across runs\n",
    "np.random.seed(42)\n",
    "\n",
    "#Pretty Figures\n",
    "%matplotlib inline\n",
    "plt.rcParams['axes.labelsize'] = 14\n",
    "plt.rcParams['xtick.labelsize'] = 12\n",
    "plt.rcParams['ytick.labelsize'] = 12\n",
    "\n",
    "#Ignore useless warnings\n",
    "import warnings\n",
    "warnings.filterwarnings(action='ignore',message='^internal gelsd')\n",
    "pd.options.mode.chained_assignment = None"
   ]
  },
  {
   "cell_type": "code",
   "execution_count": 2,
   "metadata": {
    "_uuid": "9e817dd20fa03efe646ef977facf6aaafb61f03f"
   },
   "outputs": [
    {
     "data": {
      "text/html": [
       "<div>\n",
       "<style scoped>\n",
       "    .dataframe tbody tr th:only-of-type {\n",
       "        vertical-align: middle;\n",
       "    }\n",
       "\n",
       "    .dataframe tbody tr th {\n",
       "        vertical-align: top;\n",
       "    }\n",
       "\n",
       "    .dataframe thead th {\n",
       "        text-align: right;\n",
       "    }\n",
       "</style>\n",
       "<table border=\"1\" class=\"dataframe\">\n",
       "  <thead>\n",
       "    <tr style=\"text-align: right;\">\n",
       "      <th></th>\n",
       "      <th>X</th>\n",
       "      <th>Y</th>\n",
       "      <th>month</th>\n",
       "      <th>day</th>\n",
       "      <th>FFMC</th>\n",
       "      <th>DMC</th>\n",
       "      <th>DC</th>\n",
       "      <th>ISI</th>\n",
       "      <th>temp</th>\n",
       "      <th>RH</th>\n",
       "      <th>wind</th>\n",
       "      <th>rain</th>\n",
       "      <th>area</th>\n",
       "    </tr>\n",
       "  </thead>\n",
       "  <tbody>\n",
       "    <tr>\n",
       "      <th>0</th>\n",
       "      <td>7</td>\n",
       "      <td>5</td>\n",
       "      <td>mar</td>\n",
       "      <td>fri</td>\n",
       "      <td>86.2</td>\n",
       "      <td>26.2</td>\n",
       "      <td>94.3</td>\n",
       "      <td>5.1</td>\n",
       "      <td>8.2</td>\n",
       "      <td>51</td>\n",
       "      <td>6.7</td>\n",
       "      <td>0.0</td>\n",
       "      <td>0.0</td>\n",
       "    </tr>\n",
       "    <tr>\n",
       "      <th>1</th>\n",
       "      <td>7</td>\n",
       "      <td>4</td>\n",
       "      <td>oct</td>\n",
       "      <td>tue</td>\n",
       "      <td>90.6</td>\n",
       "      <td>35.4</td>\n",
       "      <td>669.1</td>\n",
       "      <td>6.7</td>\n",
       "      <td>18.0</td>\n",
       "      <td>33</td>\n",
       "      <td>0.9</td>\n",
       "      <td>0.0</td>\n",
       "      <td>0.0</td>\n",
       "    </tr>\n",
       "    <tr>\n",
       "      <th>2</th>\n",
       "      <td>7</td>\n",
       "      <td>4</td>\n",
       "      <td>oct</td>\n",
       "      <td>sat</td>\n",
       "      <td>90.6</td>\n",
       "      <td>43.7</td>\n",
       "      <td>686.9</td>\n",
       "      <td>6.7</td>\n",
       "      <td>14.6</td>\n",
       "      <td>33</td>\n",
       "      <td>1.3</td>\n",
       "      <td>0.0</td>\n",
       "      <td>0.0</td>\n",
       "    </tr>\n",
       "    <tr>\n",
       "      <th>3</th>\n",
       "      <td>8</td>\n",
       "      <td>6</td>\n",
       "      <td>mar</td>\n",
       "      <td>fri</td>\n",
       "      <td>91.7</td>\n",
       "      <td>33.3</td>\n",
       "      <td>77.5</td>\n",
       "      <td>9.0</td>\n",
       "      <td>8.3</td>\n",
       "      <td>97</td>\n",
       "      <td>4.0</td>\n",
       "      <td>0.2</td>\n",
       "      <td>0.0</td>\n",
       "    </tr>\n",
       "    <tr>\n",
       "      <th>4</th>\n",
       "      <td>8</td>\n",
       "      <td>6</td>\n",
       "      <td>mar</td>\n",
       "      <td>sun</td>\n",
       "      <td>89.3</td>\n",
       "      <td>51.3</td>\n",
       "      <td>102.2</td>\n",
       "      <td>9.6</td>\n",
       "      <td>11.4</td>\n",
       "      <td>99</td>\n",
       "      <td>1.8</td>\n",
       "      <td>0.0</td>\n",
       "      <td>0.0</td>\n",
       "    </tr>\n",
       "  </tbody>\n",
       "</table>\n",
       "</div>"
      ],
      "text/plain": [
       "   X  Y month  day  FFMC   DMC     DC  ISI  temp  RH  wind  rain  area\n",
       "0  7  5   mar  fri  86.2  26.2   94.3  5.1   8.2  51   6.7   0.0   0.0\n",
       "1  7  4   oct  tue  90.6  35.4  669.1  6.7  18.0  33   0.9   0.0   0.0\n",
       "2  7  4   oct  sat  90.6  43.7  686.9  6.7  14.6  33   1.3   0.0   0.0\n",
       "3  8  6   mar  fri  91.7  33.3   77.5  9.0   8.3  97   4.0   0.2   0.0\n",
       "4  8  6   mar  sun  89.3  51.3  102.2  9.6  11.4  99   1.8   0.0   0.0"
      ]
     },
     "execution_count": 2,
     "metadata": {},
     "output_type": "execute_result"
    }
   ],
   "source": [
    "# function to load data\n",
    "dataset_path = os.path.join('datasets', 'forestfire', 'forestfires.csv')\n",
    "def load_data(path):\n",
    "        return pd.read_csv(dataset_path)\n",
    "    \n",
    "fire = load_data(dataset_path)\n",
    "fire.head()"
   ]
  },
  {
   "cell_type": "markdown",
   "metadata": {
    "_cell_guid": "79c7e3d0-c299-4dcb-8224-4455121ee9b0",
    "_uuid": "d629ff2d2480ee46fbb7e2d37f6b5fab8052498a",
    "collapsed": true
   },
   "source": [
    "#### the dataset doesn't have any missing values, so I am randomly removing some data points from FFMC attribute to showcase how to handle missing data problems.\n"
   ]
  },
  {
   "cell_type": "code",
   "execution_count": 3,
   "metadata": {
    "_uuid": "0a025a9b96d6a34863435645631411ff2c0deb8c"
   },
   "outputs": [
    {
     "name": "stdout",
     "output_type": "stream",
     "text": [
      "<class 'pandas.core.frame.DataFrame'>\n",
      "RangeIndex: 517 entries, 0 to 516\n",
      "Data columns (total 13 columns):\n",
      "X        517 non-null int64\n",
      "Y        517 non-null int64\n",
      "month    517 non-null object\n",
      "day      517 non-null object\n",
      "FFMC     502 non-null float64\n",
      "DMC      517 non-null float64\n",
      "DC       517 non-null float64\n",
      "ISI      517 non-null float64\n",
      "temp     517 non-null float64\n",
      "RH       517 non-null int64\n",
      "wind     517 non-null float64\n",
      "rain     517 non-null float64\n",
      "area     517 non-null float64\n",
      "dtypes: float64(8), int64(3), object(2)\n",
      "memory usage: 52.6+ KB\n"
     ]
    }
   ],
   "source": [
    "fire.FFMC[np.random.choice(fire.index,15)] = np.nan\n",
    "fire.info() #now we have 15 missing values for attribute FFMC"
   ]
  },
  {
   "cell_type": "code",
   "execution_count": 4,
   "metadata": {
    "_uuid": "3a56cb4c94574592b0c4787efa397618a104572e"
   },
   "outputs": [
    {
     "data": {
      "text/html": [
       "<div>\n",
       "<style scoped>\n",
       "    .dataframe tbody tr th:only-of-type {\n",
       "        vertical-align: middle;\n",
       "    }\n",
       "\n",
       "    .dataframe tbody tr th {\n",
       "        vertical-align: top;\n",
       "    }\n",
       "\n",
       "    .dataframe thead th {\n",
       "        text-align: right;\n",
       "    }\n",
       "</style>\n",
       "<table border=\"1\" class=\"dataframe\">\n",
       "  <thead>\n",
       "    <tr style=\"text-align: right;\">\n",
       "      <th></th>\n",
       "      <th>X</th>\n",
       "      <th>Y</th>\n",
       "      <th>FFMC</th>\n",
       "      <th>DMC</th>\n",
       "      <th>DC</th>\n",
       "      <th>ISI</th>\n",
       "      <th>temp</th>\n",
       "      <th>RH</th>\n",
       "      <th>wind</th>\n",
       "      <th>rain</th>\n",
       "      <th>area</th>\n",
       "    </tr>\n",
       "  </thead>\n",
       "  <tbody>\n",
       "    <tr>\n",
       "      <th>count</th>\n",
       "      <td>517.000000</td>\n",
       "      <td>517.000000</td>\n",
       "      <td>502.000000</td>\n",
       "      <td>517.000000</td>\n",
       "      <td>517.000000</td>\n",
       "      <td>517.000000</td>\n",
       "      <td>517.000000</td>\n",
       "      <td>517.000000</td>\n",
       "      <td>517.000000</td>\n",
       "      <td>517.000000</td>\n",
       "      <td>517.000000</td>\n",
       "    </tr>\n",
       "    <tr>\n",
       "      <th>mean</th>\n",
       "      <td>4.669246</td>\n",
       "      <td>4.299807</td>\n",
       "      <td>90.653586</td>\n",
       "      <td>110.872340</td>\n",
       "      <td>547.940039</td>\n",
       "      <td>9.021663</td>\n",
       "      <td>18.889168</td>\n",
       "      <td>44.288201</td>\n",
       "      <td>4.017602</td>\n",
       "      <td>0.021663</td>\n",
       "      <td>12.847292</td>\n",
       "    </tr>\n",
       "    <tr>\n",
       "      <th>std</th>\n",
       "      <td>2.313778</td>\n",
       "      <td>1.229900</td>\n",
       "      <td>5.499615</td>\n",
       "      <td>64.046482</td>\n",
       "      <td>248.066192</td>\n",
       "      <td>4.559477</td>\n",
       "      <td>5.806625</td>\n",
       "      <td>16.317469</td>\n",
       "      <td>1.791653</td>\n",
       "      <td>0.295959</td>\n",
       "      <td>63.655818</td>\n",
       "    </tr>\n",
       "    <tr>\n",
       "      <th>min</th>\n",
       "      <td>1.000000</td>\n",
       "      <td>2.000000</td>\n",
       "      <td>18.700000</td>\n",
       "      <td>1.100000</td>\n",
       "      <td>7.900000</td>\n",
       "      <td>0.000000</td>\n",
       "      <td>2.200000</td>\n",
       "      <td>15.000000</td>\n",
       "      <td>0.400000</td>\n",
       "      <td>0.000000</td>\n",
       "      <td>0.000000</td>\n",
       "    </tr>\n",
       "    <tr>\n",
       "      <th>25%</th>\n",
       "      <td>3.000000</td>\n",
       "      <td>4.000000</td>\n",
       "      <td>90.200000</td>\n",
       "      <td>68.600000</td>\n",
       "      <td>437.700000</td>\n",
       "      <td>6.500000</td>\n",
       "      <td>15.500000</td>\n",
       "      <td>33.000000</td>\n",
       "      <td>2.700000</td>\n",
       "      <td>0.000000</td>\n",
       "      <td>0.000000</td>\n",
       "    </tr>\n",
       "    <tr>\n",
       "      <th>50%</th>\n",
       "      <td>4.000000</td>\n",
       "      <td>4.000000</td>\n",
       "      <td>91.600000</td>\n",
       "      <td>108.300000</td>\n",
       "      <td>664.200000</td>\n",
       "      <td>8.400000</td>\n",
       "      <td>19.300000</td>\n",
       "      <td>42.000000</td>\n",
       "      <td>4.000000</td>\n",
       "      <td>0.000000</td>\n",
       "      <td>0.520000</td>\n",
       "    </tr>\n",
       "    <tr>\n",
       "      <th>75%</th>\n",
       "      <td>7.000000</td>\n",
       "      <td>5.000000</td>\n",
       "      <td>92.900000</td>\n",
       "      <td>142.400000</td>\n",
       "      <td>713.900000</td>\n",
       "      <td>10.800000</td>\n",
       "      <td>22.800000</td>\n",
       "      <td>53.000000</td>\n",
       "      <td>4.900000</td>\n",
       "      <td>0.000000</td>\n",
       "      <td>6.570000</td>\n",
       "    </tr>\n",
       "    <tr>\n",
       "      <th>max</th>\n",
       "      <td>9.000000</td>\n",
       "      <td>9.000000</td>\n",
       "      <td>96.200000</td>\n",
       "      <td>291.300000</td>\n",
       "      <td>860.600000</td>\n",
       "      <td>56.100000</td>\n",
       "      <td>33.300000</td>\n",
       "      <td>100.000000</td>\n",
       "      <td>9.400000</td>\n",
       "      <td>6.400000</td>\n",
       "      <td>1090.840000</td>\n",
       "    </tr>\n",
       "  </tbody>\n",
       "</table>\n",
       "</div>"
      ],
      "text/plain": [
       "                X           Y        FFMC         DMC          DC         ISI  \\\n",
       "count  517.000000  517.000000  502.000000  517.000000  517.000000  517.000000   \n",
       "mean     4.669246    4.299807   90.653586  110.872340  547.940039    9.021663   \n",
       "std      2.313778    1.229900    5.499615   64.046482  248.066192    4.559477   \n",
       "min      1.000000    2.000000   18.700000    1.100000    7.900000    0.000000   \n",
       "25%      3.000000    4.000000   90.200000   68.600000  437.700000    6.500000   \n",
       "50%      4.000000    4.000000   91.600000  108.300000  664.200000    8.400000   \n",
       "75%      7.000000    5.000000   92.900000  142.400000  713.900000   10.800000   \n",
       "max      9.000000    9.000000   96.200000  291.300000  860.600000   56.100000   \n",
       "\n",
       "             temp          RH        wind        rain         area  \n",
       "count  517.000000  517.000000  517.000000  517.000000   517.000000  \n",
       "mean    18.889168   44.288201    4.017602    0.021663    12.847292  \n",
       "std      5.806625   16.317469    1.791653    0.295959    63.655818  \n",
       "min      2.200000   15.000000    0.400000    0.000000     0.000000  \n",
       "25%     15.500000   33.000000    2.700000    0.000000     0.000000  \n",
       "50%     19.300000   42.000000    4.000000    0.000000     0.520000  \n",
       "75%     22.800000   53.000000    4.900000    0.000000     6.570000  \n",
       "max     33.300000  100.000000    9.400000    6.400000  1090.840000  "
      ]
     },
     "execution_count": 4,
     "metadata": {},
     "output_type": "execute_result"
    }
   ],
   "source": [
    "fire.describe() #some attributes skewed to the right(mean>median) some to the left(mean<median)"
   ]
  },
  {
   "cell_type": "code",
   "execution_count": 5,
   "metadata": {
    "_uuid": "ce28bde6ff4a8eeee4c190bdbe934f31c1b71e8e"
   },
   "outputs": [
    {
     "name": "stdout",
     "output_type": "stream",
     "text": [
      "categorical_attributes: ['month', 'day']\n",
      "numerical_attributes: ['X', 'Y', 'FFMC', 'DMC', 'DC', 'ISI', 'temp', 'RH', 'wind', 'rain', 'area']\n"
     ]
    }
   ],
   "source": [
    "#let's name the categorical and numeical attributes \n",
    "categorical_attributes = list(fire.select_dtypes(include=['object']).columns)\n",
    "numerical_attributes = list(fire.select_dtypes(include=['float64', 'int64']).columns)\n",
    "print('categorical_attributes:', categorical_attributes)\n",
    "print('numerical_attributes:', numerical_attributes)"
   ]
  },
  {
   "cell_type": "code",
   "execution_count": 6,
   "metadata": {
    "_uuid": "03e3eab0cb017643e265fce7c002d885987fa197"
   },
   "outputs": [
    {
     "name": "stdout",
     "output_type": "stream",
     "text": [
      "months\n",
      "aug    184\n",
      "sep    172\n",
      "mar     54\n",
      "jul     32\n",
      "feb     20\n",
      "jun     17\n",
      "oct     15\n",
      "dec      9\n",
      "apr      9\n",
      "jan      2\n",
      "may      2\n",
      "nov      1\n",
      "Name: month, dtype: int64\n",
      "\n",
      "\n",
      "days\n",
      "sun    95\n",
      "fri    85\n",
      "sat    84\n",
      "mon    74\n",
      "tue    64\n",
      "thu    61\n",
      "wed    54\n",
      "Name: day, dtype: int64\n"
     ]
    }
   ],
   "source": [
    "#Here we face an uniqe issue where a few months have only 1 or 2 data points. I chose to get rid of these so that the glm models\n",
    "#can handle the tests properly. Let me know how you would have hanlded.\n",
    "print('months', fire.month.value_counts(), sep='\\n')\n",
    "print('\\n')\n",
    "print('days', fire.day.value_counts(), sep='\\n')"
   ]
  },
  {
   "cell_type": "code",
   "execution_count": 7,
   "metadata": {
    "_uuid": "b0db4b5d74dc7ebbf8c67d95e3ba273074fb2b93"
   },
   "outputs": [
    {
     "data": {
      "text/plain": [
       "aug    184\n",
       "sep    172\n",
       "mar     54\n",
       "jul     32\n",
       "feb     20\n",
       "jun     17\n",
       "oct     15\n",
       "dec      9\n",
       "apr      9\n",
       "Name: month, dtype: int64"
      ]
     },
     "execution_count": 7,
     "metadata": {},
     "output_type": "execute_result"
    }
   ],
   "source": [
    "months_to_remove = ['nov','jan','may']\n",
    "forest_fire = fire.drop(fire[fire.month.isin(months_to_remove)].index ,axis=0)\n",
    "forest_fire.month.value_counts()"
   ]
  },
  {
   "cell_type": "code",
   "execution_count": 8,
   "metadata": {
    "_uuid": "be2157d37358ad5a4bec16c7ecfe36080daa2995"
   },
   "outputs": [
    {
     "data": {
      "image/png": "[encoded data removed]",
      "text/plain": [
       "<Figure size 1080x720 with 12 Axes>"
      ]
     },
     "metadata": {},
     "output_type": "display_data"
    }
   ],
   "source": [
    "#visualizing distributions \n",
    "forest_fire.hist(bins=50, figsize=(15,10), ec='w')\n",
    "plt.show()\n",
    "#target-area-is heavily skewed, we have extreme outliers."
   ]
  },
  {
   "cell_type": "code",
   "execution_count": 9,
   "metadata": {
    "_uuid": "d40f26b727c8e58079f195d8d89a768ca2cbc0a5"
   },
   "outputs": [
    {
     "data": {
      "text/plain": [
       "Text(800,100,'max: 1090.84')"
      ]
     },
     "execution_count": 9,
     "metadata": {},
     "output_type": "execute_result"
    },
    {
     "data": {
      "image/png": "[encoded data removed]",
      "text/plain": [
       "<Figure size 432x288 with 1 Axes>"
      ]
     },
     "metadata": {},
     "output_type": "display_data"
    }
   ],
   "source": [
    "plt.hist(forest_fire.area, ec='w', bins=100, color='red')\n",
    "plt.text(800,100, 'max: '+str(forest_fire.area.max()), color='black', fontsize=14)\n",
    "#Burnt area attribute ranges from 0 to 1091."
   ]
  },
  {
   "cell_type": "code",
   "execution_count": 10,
   "metadata": {
    "_uuid": "fc4aef3ad5b48ccf2ba32811cbeedb37bc059b16"
   },
   "outputs": [
    {
     "data": {
      "text/plain": [
       "0-5       362\n",
       "10-50      70\n",
       "5-10       56\n",
       "50-100     13\n",
       ">100       11\n",
       "Name: area_cat, dtype: int64"
      ]
     },
     "execution_count": 10,
     "metadata": {},
     "output_type": "execute_result"
    }
   ],
   "source": [
    "#Grouping the the burnt area to get a better understanding\n",
    "forest_fire['area_cat'] = pd.cut(forest_fire['area'], bins=[0,5, 10, 50, 100, 1100], include_lowest=True, \n",
    "                                 labels=['0-5', '5-10', '10-50', '50-100', '>100'])\n",
    "forest_fire.area_cat.value_counts()"
   ]
  },
  {
   "cell_type": "code",
   "execution_count": 11,
   "metadata": {
    "_uuid": "5ec8ce0858e058efde535a85c46ebe6f49f87820"
   },
   "outputs": [
    {
     "data": {
      "text/plain": [
       "9.85875"
      ]
     },
     "execution_count": 11,
     "metadata": {},
     "output_type": "execute_result"
    }
   ],
   "source": [
    "#Interquartile range\n",
    "Q1 = forest_fire.area.quantile(.25)\n",
    "Q3 = forest_fire.area.quantile(.75)\n",
    "IQR = 1.5*(Q3-Q1)\n",
    "IQR"
   ]
  },
  {
   "cell_type": "code",
   "execution_count": 12,
   "metadata": {
    "_uuid": "c1932e419278ba6925adcc54a2ff54e3fe1e191d"
   },
   "outputs": [
    {
     "data": {
      "text/plain": [
       "0-5       362\n",
       "5-10       56\n",
       "10-50      37\n",
       "50-100      0\n",
       ">100        0\n",
       "Name: area_cat, dtype: int64"
      ]
     },
     "execution_count": 12,
     "metadata": {},
     "output_type": "execute_result"
    }
   ],
   "source": [
    "#we are loosing quite a number of data points in already a small data set if we remove all outliers\n",
    "forest_fire.query('(@Q1 - 1.5 * @IQR) <= area <= (@Q3 + 1.5 * @IQR)').area_cat.value_counts(sort=False)"
   ]
  },
  {
   "cell_type": "markdown",
   "metadata": {
    "_uuid": "0445891b1107be03aff5c26c74029e5cf861ffac"
   },
   "source": [
    "#### I chose to remove any area greater than 100. You could do it differently, maybe with log transformations or simply removing every outlier example. It all depends how you state your problem. For me it is a matter of showcasing several tricks of Scikit-Learn, but I would have gone for a log-log model otherwise. Maybe in part2, where I will do a Regression framework using TensorFlow in eager."
   ]
  },
  {
   "cell_type": "code",
   "execution_count": 13,
   "metadata": {
    "_uuid": "c23deed0df065aaa013a299a93f15c9ad8813ba1"
   },
   "outputs": [
    {
     "data": {
      "text/plain": [
       "0-5       362\n",
       "10-50      70\n",
       "5-10       56\n",
       "50-100     13\n",
       ">100        0\n",
       "Name: area_cat, dtype: int64"
      ]
     },
     "execution_count": 13,
     "metadata": {},
     "output_type": "execute_result"
    }
   ],
   "source": [
    "#remove outliers\n",
    "forest_fire.drop(forest_fire[forest_fire.area>100].index,axis=0, inplace=True)\n",
    "forest_fire.area_cat.value_counts()"
   ]
  },
  {
   "cell_type": "markdown",
   "metadata": {
    "_uuid": "354f86c4ef8320a3907c3b1579f8aa57236bcc2f"
   },
   "source": [
    "#### Now the time for our assumptions. I remind you many assumptions we make during the iterative process might not make to the final model; As I already said, we make some assumptions, then during the model building process we might prove them right or wrong. But it always to helps to list the assumptions and take opinions of several domain experts but this is the luxury not every data scientist has.\n",
    "\n",
    "#### Assumption1- Temperature might be a great indicator of wildfires and it might be the case that high temperature may lead to more area burnt."
   ]
  },
  {
   "cell_type": "code",
   "execution_count": 14,
   "metadata": {
    "_uuid": "a14ee2061d34226869c72e03580ac0de3553ac72"
   },
   "outputs": [
    {
     "data": {
      "image/png": "[encoded data removed]",
      "text/plain": [
       "<Figure size 432x288 with 1 Axes>"
      ]
     },
     "metadata": {},
     "output_type": "display_data"
    }
   ],
   "source": [
    "#Let's understand what temp ranges we have here.\n",
    "plt.hist(forest_fire.temp, ec='w', bins=50, color='red')\n",
    "plt.show()"
   ]
  },
  {
   "cell_type": "code",
   "execution_count": 15,
   "metadata": {
    "_uuid": "c99040bcb8a27ee49929982ac6129ad04bf226d0"
   },
   "outputs": [
    {
     "data": {
      "text/plain": [
       "0-15     109\n",
       "15-20    167\n",
       "20-25    163\n",
       ">25       62\n",
       "Name: temp_bins, dtype: int64"
      ]
     },
     "execution_count": 15,
     "metadata": {},
     "output_type": "execute_result"
    }
   ],
   "source": [
    "forest_fire['temp_bins'] = pd.cut(forest_fire.temp, bins=[0, 15, 20, 25, 40], include_lowest=True, \n",
    "                                 labels=['0-15', '15-20', '20-25', '>25'])\n",
    "forest_fire.temp_bins.value_counts(sort=False)\n",
    "#so we have from very cold 0-15 degrees to hot >25 degree."
   ]
  },
  {
   "cell_type": "markdown",
   "metadata": {
    "_uuid": "f0edf47e7625f07bb0982c5c1498b8cb2570e30d"
   },
   "source": [
    "#### As, I have assumed temp is a critical indicator, to have a golden test dataset I would prefer that both train and test has equally distributed temperature conditions. Stratified shuffle split will help us maintain the required strata compositions here. My strata set is temperature categories I have created above. Do note while creating groups make sure that all the groups are well represented."
   ]
  },
  {
   "cell_type": "code",
   "execution_count": 16,
   "metadata": {
    "_uuid": "72c78d95e872aed96dcfadbd1411a20b6c7c5554"
   },
   "outputs": [],
   "source": [
    "from sklearn.model_selection import StratifiedShuffleSplit\n",
    "\n",
    "split = StratifiedShuffleSplit(n_splits=1, test_size=0.2, random_state=42)\n",
    "for train_index, test_index in split.split(forest_fire.values, forest_fire.temp_bins.values):\n",
    "    st_train_set = forest_fire.iloc[train_index]\n",
    "    st_test_set = forest_fire.iloc[test_index]"
   ]
  },
  {
   "cell_type": "markdown",
   "metadata": {
    "_uuid": "59a50b423a0a1d1a55bc362a2dce23e3c4e8f648"
   },
   "source": [
    "### Once you create the test data remember to not touch it until you finalize your model. Any exploration of test data would result in a biased perspective that might not generalize well to new data once the system is live."
   ]
  },
  {
   "cell_type": "code",
   "execution_count": 17,
   "metadata": {
    "_uuid": "33a976fddb890aa201c65ecea700bf8245fc75e6"
   },
   "outputs": [
    {
     "name": "stdout",
     "output_type": "stream",
     "text": [
      "0-15     0.217822\n",
      "15-20    0.336634\n",
      "20-25    0.326733\n",
      ">25      0.118812\n",
      "Name: temp_bins, dtype: float64\n",
      "0-15     0.217565\n",
      "15-20    0.333333\n",
      "20-25    0.325349\n",
      ">25      0.123752\n",
      "Name: temp_bins, dtype: float64\n"
     ]
    }
   ],
   "source": [
    "#this works like magic.\n",
    "print(st_test_set.temp_bins.value_counts(sort=False)/len(st_test_set), sep='\\n')\n",
    "print(forest_fire.temp_bins.value_counts(sort=False)/len(forest_fire), sep='\\n')"
   ]
  },
  {
   "cell_type": "code",
   "execution_count": 18,
   "metadata": {
    "_uuid": "4d584c4783b0d917cd94c3ceac0ee55b96ec9a57"
   },
   "outputs": [
    {
     "data": {
      "text/html": [
       "<div>\n",
       "<style scoped>\n",
       "    .dataframe tbody tr th:only-of-type {\n",
       "        vertical-align: middle;\n",
       "    }\n",
       "\n",
       "    .dataframe tbody tr th {\n",
       "        vertical-align: top;\n",
       "    }\n",
       "\n",
       "    .dataframe thead th {\n",
       "        text-align: right;\n",
       "    }\n",
       "</style>\n",
       "<table border=\"1\" class=\"dataframe\">\n",
       "  <thead>\n",
       "    <tr style=\"text-align: right;\">\n",
       "      <th></th>\n",
       "      <th>X</th>\n",
       "      <th>Y</th>\n",
       "      <th>month</th>\n",
       "      <th>day</th>\n",
       "      <th>FFMC</th>\n",
       "      <th>DMC</th>\n",
       "      <th>DC</th>\n",
       "      <th>ISI</th>\n",
       "      <th>temp</th>\n",
       "      <th>RH</th>\n",
       "      <th>wind</th>\n",
       "      <th>rain</th>\n",
       "      <th>area</th>\n",
       "    </tr>\n",
       "  </thead>\n",
       "  <tbody>\n",
       "    <tr>\n",
       "      <th>359</th>\n",
       "      <td>1</td>\n",
       "      <td>4</td>\n",
       "      <td>sep</td>\n",
       "      <td>fri</td>\n",
       "      <td>92.5</td>\n",
       "      <td>122.0</td>\n",
       "      <td>789.7</td>\n",
       "      <td>10.2</td>\n",
       "      <td>21.1</td>\n",
       "      <td>39</td>\n",
       "      <td>2.2</td>\n",
       "      <td>0.0</td>\n",
       "      <td>8.12</td>\n",
       "    </tr>\n",
       "    <tr>\n",
       "      <th>314</th>\n",
       "      <td>4</td>\n",
       "      <td>4</td>\n",
       "      <td>sep</td>\n",
       "      <td>wed</td>\n",
       "      <td>92.6</td>\n",
       "      <td>115.4</td>\n",
       "      <td>777.1</td>\n",
       "      <td>8.8</td>\n",
       "      <td>19.7</td>\n",
       "      <td>41</td>\n",
       "      <td>1.8</td>\n",
       "      <td>0.0</td>\n",
       "      <td>1.58</td>\n",
       "    </tr>\n",
       "    <tr>\n",
       "      <th>203</th>\n",
       "      <td>8</td>\n",
       "      <td>6</td>\n",
       "      <td>oct</td>\n",
       "      <td>wed</td>\n",
       "      <td>91.4</td>\n",
       "      <td>37.9</td>\n",
       "      <td>673.8</td>\n",
       "      <td>5.2</td>\n",
       "      <td>20.2</td>\n",
       "      <td>37</td>\n",
       "      <td>2.7</td>\n",
       "      <td>0.0</td>\n",
       "      <td>13.70</td>\n",
       "    </tr>\n",
       "    <tr>\n",
       "      <th>319</th>\n",
       "      <td>5</td>\n",
       "      <td>4</td>\n",
       "      <td>sep</td>\n",
       "      <td>thu</td>\n",
       "      <td>92.8</td>\n",
       "      <td>119.0</td>\n",
       "      <td>783.5</td>\n",
       "      <td>7.5</td>\n",
       "      <td>21.6</td>\n",
       "      <td>28</td>\n",
       "      <td>6.3</td>\n",
       "      <td>0.0</td>\n",
       "      <td>4.41</td>\n",
       "    </tr>\n",
       "    <tr>\n",
       "      <th>51</th>\n",
       "      <td>4</td>\n",
       "      <td>3</td>\n",
       "      <td>aug</td>\n",
       "      <td>sun</td>\n",
       "      <td>90.2</td>\n",
       "      <td>99.6</td>\n",
       "      <td>631.2</td>\n",
       "      <td>6.3</td>\n",
       "      <td>21.5</td>\n",
       "      <td>34</td>\n",
       "      <td>2.2</td>\n",
       "      <td>0.0</td>\n",
       "      <td>0.00</td>\n",
       "    </tr>\n",
       "  </tbody>\n",
       "</table>\n",
       "</div>"
      ],
      "text/plain": [
       "     X  Y month  day  FFMC    DMC     DC   ISI  temp  RH  wind  rain   area\n",
       "359  1  4   sep  fri  92.5  122.0  789.7  10.2  21.1  39   2.2   0.0   8.12\n",
       "314  4  4   sep  wed  92.6  115.4  777.1   8.8  19.7  41   1.8   0.0   1.58\n",
       "203  8  6   oct  wed  91.4   37.9  673.8   5.2  20.2  37   2.7   0.0  13.70\n",
       "319  5  4   sep  thu  92.8  119.0  783.5   7.5  21.6  28   6.3   0.0   4.41\n",
       "51   4  3   aug  sun  90.2   99.6  631.2   6.3  21.5  34   2.2   0.0   0.00"
      ]
     },
     "execution_count": 18,
     "metadata": {},
     "output_type": "execute_result"
    }
   ],
   "source": [
    "#now lets drop the area and temp categories \n",
    "for _ in (st_train_set, st_test_set):\n",
    "    _.drop(['area_cat','temp_bins'], axis=1, inplace=True)\n",
    "    \n",
    "forest_fire = st_train_set.copy()\n",
    "forest_fire.head()"
   ]
  },
  {
   "cell_type": "code",
   "execution_count": 19,
   "metadata": {
    "_uuid": "4c6d2f733048f3b4fd646229920edada9930f87c"
   },
   "outputs": [
    {
     "data": {
      "image/png": "[encoded data removed]",
      "text/plain": [
       "<Figure size 864x576 with 1 Axes>"
      ]
     },
     "metadata": {},
     "output_type": "display_data"
    }
   ],
   "source": [
    "#December had a few incidents but all on the higher burnt area side. Is it becuase dry weather or because more tourists? \n",
    "ax = plt.figure(figsize=(12,8))\n",
    "ax = sns.boxplot(x='month', y='area', data=forest_fire, color='lightgrey', )\n",
    "ax = sns.stripplot(x='month', y='area', data=forest_fire, color='red', jitter=0.4, size=4)"
   ]
  },
  {
   "cell_type": "code",
   "execution_count": 20,
   "metadata": {
    "_uuid": "dd42bf7c8ab5c313e87fd8afa0775902787fad0d"
   },
   "outputs": [
    {
     "data": {
      "image/png": "[encoded data removed]",
      "text/plain": [
       "<Figure size 864x576 with 1 Axes>"
      ]
     },
     "metadata": {},
     "output_type": "display_data"
    }
   ],
   "source": [
    "#There are more incidents on weekends - Friday/Sat/Sun, it might mean that campers vactioning might have caused/spotted fires.\n",
    "ax = plt.figure(figsize=(12,8))\n",
    "ax = sns.boxplot(x='day', y='area', data=forest_fire, color='lightgrey', )\n",
    "ax = sns.stripplot(x='day', y='area', data=forest_fire, color='red', jitter=0.4, size=4)"
   ]
  },
  {
   "cell_type": "code",
   "execution_count": 21,
   "metadata": {
    "_uuid": "571a47a91a5cd90734a8782ef0dcbbafdfc657e7"
   },
   "outputs": [
    {
     "data": {
      "image/png": "[encoded data removed]",
      "text/plain": [
       "<Figure size 432x288 with 2 Axes>"
      ]
     },
     "metadata": {},
     "output_type": "display_data"
    }
   ],
   "source": [
    "#I am checking the temparature distribution as per the forest cordinates during the month of december\n",
    "#it looks like the temps are low, so it could be a combinaton of dry weather and human made fire. But as data scientists,\n",
    "#we must make important discoveries to arrive at any conclusive evidence. Else the above statments are just my mind made \n",
    "#fantsies\n",
    "forest_fire[forest_fire.month=='dec'].plot(kind='scatter', x='X', y='Y', c='temp', cmap=plt.get_cmap('coolwarm'), colorbar=True)\n",
    "plt.show()"
   ]
  },
  {
   "cell_type": "markdown",
   "metadata": {
    "_uuid": "8080d7f2020b1670d658876c983025d8b0c5f170"
   },
   "source": [
    "#### Spearman rank correlation is more robust to the effect of outliers than Pearson’s correlations coefficient. If you need to know why I will load a new kernel sometime. But do remember we are just checking linear correlations here."
   ]
  },
  {
   "cell_type": "code",
   "execution_count": 22,
   "metadata": {
    "_uuid": "373a4bc6d35840098b5e3ede229edadf40e2f1be"
   },
   "outputs": [
    {
     "data": {
      "text/html": [
       "<div>\n",
       "<style scoped>\n",
       "    .dataframe tbody tr th:only-of-type {\n",
       "        vertical-align: middle;\n",
       "    }\n",
       "\n",
       "    .dataframe tbody tr th {\n",
       "        vertical-align: top;\n",
       "    }\n",
       "\n",
       "    .dataframe thead th {\n",
       "        text-align: right;\n",
       "    }\n",
       "</style>\n",
       "<table border=\"1\" class=\"dataframe\">\n",
       "  <thead>\n",
       "    <tr style=\"text-align: right;\">\n",
       "      <th></th>\n",
       "      <th>X</th>\n",
       "      <th>Y</th>\n",
       "      <th>FFMC</th>\n",
       "      <th>DMC</th>\n",
       "      <th>DC</th>\n",
       "      <th>ISI</th>\n",
       "      <th>temp</th>\n",
       "      <th>RH</th>\n",
       "      <th>wind</th>\n",
       "      <th>rain</th>\n",
       "      <th>area</th>\n",
       "    </tr>\n",
       "  </thead>\n",
       "  <tbody>\n",
       "    <tr>\n",
       "      <th>X</th>\n",
       "      <td>1.000000</td>\n",
       "      <td>0.481958</td>\n",
       "      <td>-0.070729</td>\n",
       "      <td>-0.082882</td>\n",
       "      <td>-0.097020</td>\n",
       "      <td>0.003760</td>\n",
       "      <td>-0.060757</td>\n",
       "      <td>0.081566</td>\n",
       "      <td>0.016699</td>\n",
       "      <td>0.106047</td>\n",
       "      <td>0.038364</td>\n",
       "    </tr>\n",
       "    <tr>\n",
       "      <th>Y</th>\n",
       "      <td>0.481958</td>\n",
       "      <td>1.000000</td>\n",
       "      <td>-0.027837</td>\n",
       "      <td>0.006697</td>\n",
       "      <td>-0.116588</td>\n",
       "      <td>-0.050865</td>\n",
       "      <td>-0.047194</td>\n",
       "      <td>0.075483</td>\n",
       "      <td>-0.056825</td>\n",
       "      <td>0.065329</td>\n",
       "      <td>0.062555</td>\n",
       "    </tr>\n",
       "    <tr>\n",
       "      <th>FFMC</th>\n",
       "      <td>-0.070729</td>\n",
       "      <td>-0.027837</td>\n",
       "      <td>1.000000</td>\n",
       "      <td>0.494726</td>\n",
       "      <td>0.229370</td>\n",
       "      <td>0.795014</td>\n",
       "      <td>0.594105</td>\n",
       "      <td>-0.347661</td>\n",
       "      <td>-0.030324</td>\n",
       "      <td>0.118104</td>\n",
       "      <td>0.018090</td>\n",
       "    </tr>\n",
       "    <tr>\n",
       "      <th>DMC</th>\n",
       "      <td>-0.082882</td>\n",
       "      <td>0.006697</td>\n",
       "      <td>0.494726</td>\n",
       "      <td>1.000000</td>\n",
       "      <td>0.562753</td>\n",
       "      <td>0.394178</td>\n",
       "      <td>0.468887</td>\n",
       "      <td>0.043702</td>\n",
       "      <td>-0.098967</td>\n",
       "      <td>0.166716</td>\n",
       "      <td>0.026109</td>\n",
       "    </tr>\n",
       "    <tr>\n",
       "      <th>DC</th>\n",
       "      <td>-0.097020</td>\n",
       "      <td>-0.116588</td>\n",
       "      <td>0.229370</td>\n",
       "      <td>0.562753</td>\n",
       "      <td>1.000000</td>\n",
       "      <td>0.082584</td>\n",
       "      <td>0.274941</td>\n",
       "      <td>0.050014</td>\n",
       "      <td>-0.157062</td>\n",
       "      <td>0.033104</td>\n",
       "      <td>0.036140</td>\n",
       "    </tr>\n",
       "    <tr>\n",
       "      <th>ISI</th>\n",
       "      <td>0.003760</td>\n",
       "      <td>-0.050865</td>\n",
       "      <td>0.795014</td>\n",
       "      <td>0.394178</td>\n",
       "      <td>0.082584</td>\n",
       "      <td>1.000000</td>\n",
       "      <td>0.406165</td>\n",
       "      <td>-0.171347</td>\n",
       "      <td>0.128069</td>\n",
       "      <td>0.133786</td>\n",
       "      <td>0.019129</td>\n",
       "    </tr>\n",
       "    <tr>\n",
       "      <th>temp</th>\n",
       "      <td>-0.060757</td>\n",
       "      <td>-0.047194</td>\n",
       "      <td>0.594105</td>\n",
       "      <td>0.468887</td>\n",
       "      <td>0.274941</td>\n",
       "      <td>0.406165</td>\n",
       "      <td>1.000000</td>\n",
       "      <td>-0.551008</td>\n",
       "      <td>-0.184548</td>\n",
       "      <td>0.056701</td>\n",
       "      <td>0.048286</td>\n",
       "    </tr>\n",
       "    <tr>\n",
       "      <th>RH</th>\n",
       "      <td>0.081566</td>\n",
       "      <td>0.075483</td>\n",
       "      <td>-0.347661</td>\n",
       "      <td>0.043702</td>\n",
       "      <td>0.050014</td>\n",
       "      <td>-0.171347</td>\n",
       "      <td>-0.551008</td>\n",
       "      <td>1.000000</td>\n",
       "      <td>0.100768</td>\n",
       "      <td>0.187838</td>\n",
       "      <td>-0.043599</td>\n",
       "    </tr>\n",
       "    <tr>\n",
       "      <th>wind</th>\n",
       "      <td>0.016699</td>\n",
       "      <td>-0.056825</td>\n",
       "      <td>-0.030324</td>\n",
       "      <td>-0.098967</td>\n",
       "      <td>-0.157062</td>\n",
       "      <td>0.128069</td>\n",
       "      <td>-0.184548</td>\n",
       "      <td>0.100768</td>\n",
       "      <td>1.000000</td>\n",
       "      <td>0.146433</td>\n",
       "      <td>0.049758</td>\n",
       "    </tr>\n",
       "    <tr>\n",
       "      <th>rain</th>\n",
       "      <td>0.106047</td>\n",
       "      <td>0.065329</td>\n",
       "      <td>0.118104</td>\n",
       "      <td>0.166716</td>\n",
       "      <td>0.033104</td>\n",
       "      <td>0.133786</td>\n",
       "      <td>0.056701</td>\n",
       "      <td>0.187838</td>\n",
       "      <td>0.146433</td>\n",
       "      <td>1.000000</td>\n",
       "      <td>-0.056283</td>\n",
       "    </tr>\n",
       "    <tr>\n",
       "      <th>area</th>\n",
       "      <td>0.038364</td>\n",
       "      <td>0.062555</td>\n",
       "      <td>0.018090</td>\n",
       "      <td>0.026109</td>\n",
       "      <td>0.036140</td>\n",
       "      <td>0.019129</td>\n",
       "      <td>0.048286</td>\n",
       "      <td>-0.043599</td>\n",
       "      <td>0.049758</td>\n",
       "      <td>-0.056283</td>\n",
       "      <td>1.000000</td>\n",
       "    </tr>\n",
       "  </tbody>\n",
       "</table>\n",
       "</div>"
      ],
      "text/plain": [
       "             X         Y      FFMC       DMC        DC       ISI      temp  \\\n",
       "X     1.000000  0.481958 -0.070729 -0.082882 -0.097020  0.003760 -0.060757   \n",
       "Y     0.481958  1.000000 -0.027837  0.006697 -0.116588 -0.050865 -0.047194   \n",
       "FFMC -0.070729 -0.027837  1.000000  0.494726  0.229370  0.795014  0.594105   \n",
       "DMC  -0.082882  0.006697  0.494726  1.000000  0.562753  0.394178  0.468887   \n",
       "DC   -0.097020 -0.116588  0.229370  0.562753  1.000000  0.082584  0.274941   \n",
       "ISI   0.003760 -0.050865  0.795014  0.394178  0.082584  1.000000  0.406165   \n",
       "temp -0.060757 -0.047194  0.594105  0.468887  0.274941  0.406165  1.000000   \n",
       "RH    0.081566  0.075483 -0.347661  0.043702  0.050014 -0.171347 -0.551008   \n",
       "wind  0.016699 -0.056825 -0.030324 -0.098967 -0.157062  0.128069 -0.184548   \n",
       "rain  0.106047  0.065329  0.118104  0.166716  0.033104  0.133786  0.056701   \n",
       "area  0.038364  0.062555  0.018090  0.026109  0.036140  0.019129  0.048286   \n",
       "\n",
       "            RH      wind      rain      area  \n",
       "X     0.081566  0.016699  0.106047  0.038364  \n",
       "Y     0.075483 -0.056825  0.065329  0.062555  \n",
       "FFMC -0.347661 -0.030324  0.118104  0.018090  \n",
       "DMC   0.043702 -0.098967  0.166716  0.026109  \n",
       "DC    0.050014 -0.157062  0.033104  0.036140  \n",
       "ISI  -0.171347  0.128069  0.133786  0.019129  \n",
       "temp -0.551008 -0.184548  0.056701  0.048286  \n",
       "RH    1.000000  0.100768  0.187838 -0.043599  \n",
       "wind  0.100768  1.000000  0.146433  0.049758  \n",
       "rain  0.187838  0.146433  1.000000 -0.056283  \n",
       "area -0.043599  0.049758 -0.056283  1.000000  "
      ]
     },
     "execution_count": 22,
     "metadata": {},
     "output_type": "execute_result"
    }
   ],
   "source": [
    "corr_matrix = forest_fire.corr(method='spearman')\n",
    "corr_matrix"
   ]
  },
  {
   "cell_type": "code",
   "execution_count": 23,
   "metadata": {
    "_uuid": "2d96650ee100dd63d67715a4f5a22d9f34bd2007"
   },
   "outputs": [
    {
     "data": {
      "image/png": "[encoded data removed]",
      "text/plain": [
       "<Figure size 864x576 with 2 Axes>"
      ]
     },
     "metadata": {},
     "output_type": "display_data"
    }
   ],
   "source": [
    "ax = plt.figure(figsize=(12,8))\n",
    "ax = sns.heatmap(corr_matrix, cmap='PiYG')"
   ]
  },
  {
   "cell_type": "code",
   "execution_count": 24,
   "metadata": {
    "_uuid": "77b6abbd9e0e89c8b79ee830df0896b102317c8b"
   },
   "outputs": [
    {
     "data": {
      "text/plain": [
       "area    1.000000\n",
       "Y       0.062555\n",
       "wind    0.049758\n",
       "temp    0.048286\n",
       "X       0.038364\n",
       "DC      0.036140\n",
       "DMC     0.026109\n",
       "ISI     0.019129\n",
       "FFMC    0.018090\n",
       "RH     -0.043599\n",
       "rain   -0.056283\n",
       "Name: area, dtype: float64"
      ]
     },
     "execution_count": 24,
     "metadata": {},
     "output_type": "execute_result"
    }
   ],
   "source": [
    "#corrleation with area\n",
    "corr_matrix.area.sort_values(ascending=False)"
   ]
  },
  {
   "cell_type": "code",
   "execution_count": 25,
   "metadata": {
    "_uuid": "df97fbabb8a61ff58c6ac45a1a3fe18417617453"
   },
   "outputs": [
    {
     "data": {
      "image/png": "[encoded data removed]",
      "text/plain": [
       "<Figure size 900x900 with 30 Axes>"
      ]
     },
     "metadata": {},
     "output_type": "display_data"
    }
   ],
   "source": [
    "#visualizing relations of most related attributes\n",
    "attributes = ['area', 'wind', 'temp', 'rain', 'RH']\n",
    "sns.pairplot(forest_fire[attributes])\n",
    "plt.show()"
   ]
  },
  {
   "cell_type": "markdown",
   "metadata": {
    "_uuid": "348b0b35dcc82f31d188c6374bc1c3dadf061f9e"
   },
   "source": [
    "#### Not enough opportunity for feature engineering. we might take help of external data sources but need domain experts' input."
   ]
  },
  {
   "cell_type": "code",
   "execution_count": 26,
   "metadata": {
    "_uuid": "8f3272b4a2d2c64cb26c69ab9aba353070eac8f7"
   },
   "outputs": [],
   "source": [
    "#create a fresh copy of train to preprocess\n",
    "forest_fire = st_train_set.drop('area', axis=1)\n",
    "forest_fire_labels = st_train_set.area.copy()"
   ]
  },
  {
   "cell_type": "markdown",
   "metadata": {
    "_uuid": "bc35a65e091724ccddd4d3b71c60c8f4662be02f"
   },
   "source": [
    "#### I chose to remove coordinates X & Y before model building. The reason being here we are building a model that will use weather conditions to determine the severity of a wildfire based on area burnt, so keeping X&Y locations of one forest does ‘t generalize well to others.\n",
    "#### Now in the process of data prep, you might need to create or drop several columns. So, it's a good idea to automate the process. Below an example of what an Attribute/Feature deleter will look like."
   ]
  },
  {
   "cell_type": "code",
   "execution_count": 27,
   "metadata": {
    "_uuid": "b5e552e654ca75e1385625d2e977ccf63fa04314"
   },
   "outputs": [],
   "source": [
    "from sklearn.base import BaseEstimator, TransformerMixin\n",
    "\n",
    "class AttributeDeleter(BaseEstimator, TransformerMixin):\n",
    "    def __init__(self, delete=True):\n",
    "        self.delete = delete\n",
    "    def fit(self, X, y=None):\n",
    "        return self\n",
    "    def transform(self, X, y=None):\n",
    "        return np.delete(X,[fire.columns.get_loc(i) for i in['X','Y','area']],axis=1)\n",
    "            "
   ]
  },
  {
   "cell_type": "markdown",
   "metadata": {
    "_uuid": "823d42e76363923b778cf8d8f83c3b535bfdcb4f"
   },
   "source": [
    "#### With same reasoning, you need to do a lot of transformations depending on the task, so having a custom pipeline that helps you automate these tasks will simplify your deployment process in the end.\n",
    "\n",
    "#### To handle missing data, I chose to fill them with median values of the attribute you can choose to do differently, or once you finalize your model you can do a hyperparameter tuning to find out which imputing strategy works best using a grid search. Imputing simply means what value are you going to put in place of null values.\n",
    "\n",
    "#### I chose to create of dummies out of my categorical attributes, but you can do a low-level vector representation of them using embeddings. OneHotEncoder does that for me.\n",
    "\n",
    "#### And lastly, we have data attributes in many different scales. So, it's always a good idea to either standardize or normalize the scales. Reason being many instances based and model based learning have a distance based cost function to minimize to get the best possible similarity or model fit parameters. Having a standardized scale helps us find the best possible parameters in an efficient way."
   ]
  },
  {
   "cell_type": "code",
   "execution_count": 28,
   "metadata": {
    "_uuid": "85e284c07520634c81a01c54db0759caca1c76d7"
   },
   "outputs": [
    {
     "name": "stderr",
     "output_type": "stream",
     "text": [
      "C:\\Anaconda3\\lib\\site-packages\\ipykernel_launcher.py:9: DeprecationWarning: in the future out of bounds indices will raise an error instead of being ignored by `numpy.delete`.\n",
      "  if __name__ == '__main__':\n"
     ]
    },
    {
     "data": {
      "text/plain": [
       "((400, 24), (400, 12))"
      ]
     },
     "execution_count": 28,
     "metadata": {},
     "output_type": "execute_result"
    }
   ],
   "source": [
    "from sklearn.impute import SimpleImputer\n",
    "from sklearn.preprocessing import OneHotEncoder, StandardScaler\n",
    "from sklearn.pipeline import Pipeline\n",
    "from sklearn.compose import ColumnTransformer\n",
    "\n",
    "categorical_attributes = list(forest_fire.select_dtypes(include=['object']).columns)\n",
    "numerical_attributes = list(forest_fire.select_dtypes(include=['float64', 'int64']).columns)\n",
    "\n",
    "num_pipeline = Pipeline([('imputer', SimpleImputer(strategy='median')),\n",
    "                         ('drop_attributes', AttributeDeleter()),\n",
    "                         ('std_scaler', StandardScaler()),\n",
    "                        ])\n",
    "full_pipeline = ColumnTransformer([('num', num_pipeline, numerical_attributes),\n",
    "                                   ('cat', OneHotEncoder(), categorical_attributes),\n",
    "                                  ])\n",
    "\n",
    "train = full_pipeline.fit_transform(forest_fire)\n",
    "train_labels = forest_fire_labels\n",
    "train.shape ,forest_fire.shape"
   ]
  },
  {
   "cell_type": "code",
   "execution_count": 29,
   "metadata": {
    "_uuid": "db645d26b58670fe60955bc8321fb0bcd988cea9"
   },
   "outputs": [
    {
     "data": {
      "text/html": [
       "<div>\n",
       "<style scoped>\n",
       "    .dataframe tbody tr th:only-of-type {\n",
       "        vertical-align: middle;\n",
       "    }\n",
       "\n",
       "    .dataframe tbody tr th {\n",
       "        vertical-align: top;\n",
       "    }\n",
       "\n",
       "    .dataframe thead th {\n",
       "        text-align: right;\n",
       "    }\n",
       "</style>\n",
       "<table border=\"1\" class=\"dataframe\">\n",
       "  <thead>\n",
       "    <tr style=\"text-align: right;\">\n",
       "      <th></th>\n",
       "      <th>FFMC</th>\n",
       "      <th>DMC</th>\n",
       "      <th>DC</th>\n",
       "      <th>ISI</th>\n",
       "      <th>temp</th>\n",
       "      <th>RH</th>\n",
       "      <th>wind</th>\n",
       "      <th>rain</th>\n",
       "      <th>apr</th>\n",
       "      <th>aug</th>\n",
       "      <th>...</th>\n",
       "      <th>mar</th>\n",
       "      <th>oct</th>\n",
       "      <th>sep</th>\n",
       "      <th>fri</th>\n",
       "      <th>mon</th>\n",
       "      <th>sat</th>\n",
       "      <th>sun</th>\n",
       "      <th>thu</th>\n",
       "      <th>tue</th>\n",
       "      <th>wed</th>\n",
       "    </tr>\n",
       "  </thead>\n",
       "  <tbody>\n",
       "    <tr>\n",
       "      <th>0</th>\n",
       "      <td>0.380562</td>\n",
       "      <td>0.142619</td>\n",
       "      <td>0.956717</td>\n",
       "      <td>0.231093</td>\n",
       "      <td>0.367208</td>\n",
       "      <td>-0.334216</td>\n",
       "      <td>-1.038205</td>\n",
       "      <td>-0.0819</td>\n",
       "      <td>0.0</td>\n",
       "      <td>0.0</td>\n",
       "      <td>...</td>\n",
       "      <td>0.0</td>\n",
       "      <td>0.0</td>\n",
       "      <td>1.0</td>\n",
       "      <td>1.0</td>\n",
       "      <td>0.0</td>\n",
       "      <td>0.0</td>\n",
       "      <td>0.0</td>\n",
       "      <td>0.0</td>\n",
       "      <td>0.0</td>\n",
       "      <td>0.0</td>\n",
       "    </tr>\n",
       "    <tr>\n",
       "      <th>1</th>\n",
       "      <td>0.403855</td>\n",
       "      <td>0.041644</td>\n",
       "      <td>0.905476</td>\n",
       "      <td>-0.065316</td>\n",
       "      <td>0.125964</td>\n",
       "      <td>-0.209799</td>\n",
       "      <td>-1.265975</td>\n",
       "      <td>-0.0819</td>\n",
       "      <td>0.0</td>\n",
       "      <td>0.0</td>\n",
       "      <td>...</td>\n",
       "      <td>0.0</td>\n",
       "      <td>0.0</td>\n",
       "      <td>1.0</td>\n",
       "      <td>0.0</td>\n",
       "      <td>0.0</td>\n",
       "      <td>0.0</td>\n",
       "      <td>0.0</td>\n",
       "      <td>0.0</td>\n",
       "      <td>0.0</td>\n",
       "      <td>1.0</td>\n",
       "    </tr>\n",
       "    <tr>\n",
       "      <th>2</th>\n",
       "      <td>0.124330</td>\n",
       "      <td>-1.144046</td>\n",
       "      <td>0.485378</td>\n",
       "      <td>-0.827509</td>\n",
       "      <td>0.212122</td>\n",
       "      <td>-0.458633</td>\n",
       "      <td>-0.753492</td>\n",
       "      <td>-0.0819</td>\n",
       "      <td>0.0</td>\n",
       "      <td>0.0</td>\n",
       "      <td>...</td>\n",
       "      <td>0.0</td>\n",
       "      <td>1.0</td>\n",
       "      <td>0.0</td>\n",
       "      <td>0.0</td>\n",
       "      <td>0.0</td>\n",
       "      <td>0.0</td>\n",
       "      <td>0.0</td>\n",
       "      <td>0.0</td>\n",
       "      <td>0.0</td>\n",
       "      <td>1.0</td>\n",
       "    </tr>\n",
       "    <tr>\n",
       "      <th>3</th>\n",
       "      <td>0.450443</td>\n",
       "      <td>0.096722</td>\n",
       "      <td>0.931503</td>\n",
       "      <td>-0.340552</td>\n",
       "      <td>0.453366</td>\n",
       "      <td>-1.018511</td>\n",
       "      <td>1.296439</td>\n",
       "      <td>-0.0819</td>\n",
       "      <td>0.0</td>\n",
       "      <td>0.0</td>\n",
       "      <td>...</td>\n",
       "      <td>0.0</td>\n",
       "      <td>0.0</td>\n",
       "      <td>1.0</td>\n",
       "      <td>0.0</td>\n",
       "      <td>0.0</td>\n",
       "      <td>0.0</td>\n",
       "      <td>0.0</td>\n",
       "      <td>1.0</td>\n",
       "      <td>0.0</td>\n",
       "      <td>0.0</td>\n",
       "    </tr>\n",
       "    <tr>\n",
       "      <th>4</th>\n",
       "      <td>-0.155195</td>\n",
       "      <td>-0.200083</td>\n",
       "      <td>0.312134</td>\n",
       "      <td>-0.594617</td>\n",
       "      <td>0.436134</td>\n",
       "      <td>-0.645259</td>\n",
       "      <td>-1.038205</td>\n",
       "      <td>-0.0819</td>\n",
       "      <td>0.0</td>\n",
       "      <td>1.0</td>\n",
       "      <td>...</td>\n",
       "      <td>0.0</td>\n",
       "      <td>0.0</td>\n",
       "      <td>0.0</td>\n",
       "      <td>0.0</td>\n",
       "      <td>0.0</td>\n",
       "      <td>0.0</td>\n",
       "      <td>1.0</td>\n",
       "      <td>0.0</td>\n",
       "      <td>0.0</td>\n",
       "      <td>0.0</td>\n",
       "    </tr>\n",
       "  </tbody>\n",
       "</table>\n",
       "<p>5 rows × 24 columns</p>\n",
       "</div>"
      ],
      "text/plain": [
       "       FFMC       DMC        DC       ISI      temp        RH      wind  \\\n",
       "0  0.380562  0.142619  0.956717  0.231093  0.367208 -0.334216 -1.038205   \n",
       "1  0.403855  0.041644  0.905476 -0.065316  0.125964 -0.209799 -1.265975   \n",
       "2  0.124330 -1.144046  0.485378 -0.827509  0.212122 -0.458633 -0.753492   \n",
       "3  0.450443  0.096722  0.931503 -0.340552  0.453366 -1.018511  1.296439   \n",
       "4 -0.155195 -0.200083  0.312134 -0.594617  0.436134 -0.645259 -1.038205   \n",
       "\n",
       "     rain  apr  aug ...   mar  oct  sep  fri  mon  sat  sun  thu  tue  wed  \n",
       "0 -0.0819  0.0  0.0 ...   0.0  0.0  1.0  1.0  0.0  0.0  0.0  0.0  0.0  0.0  \n",
       "1 -0.0819  0.0  0.0 ...   0.0  0.0  1.0  0.0  0.0  0.0  0.0  0.0  0.0  1.0  \n",
       "2 -0.0819  0.0  0.0 ...   0.0  1.0  0.0  0.0  0.0  0.0  0.0  0.0  0.0  1.0  \n",
       "3 -0.0819  0.0  0.0 ...   0.0  0.0  1.0  0.0  0.0  0.0  0.0  1.0  0.0  0.0  \n",
       "4 -0.0819  0.0  1.0 ...   0.0  0.0  0.0  0.0  0.0  0.0  1.0  0.0  0.0  0.0  \n",
       "\n",
       "[5 rows x 24 columns]"
      ]
     },
     "execution_count": 29,
     "metadata": {},
     "output_type": "execute_result"
    }
   ],
   "source": [
    "#check the train data\n",
    "train_df = pd.DataFrame(train, columns= numerical_attributes[2:] + list(full_pipeline.named_transformers_.cat.categories_[0]) +\n",
    "             list(full_pipeline.named_transformers_.cat.categories_[1]))\n",
    "train_df.head()"
   ]
  },
  {
   "cell_type": "markdown",
   "metadata": {
    "_uuid": "856f0d3998ce39d2ea71727bbe212ea5a9fe6983"
   },
   "source": [
    "#### Now we can finally start the model selection process where we try out bunch of different models. Choose some and fine tune them before finalizing one."
   ]
  },
  {
   "cell_type": "code",
   "execution_count": 30,
   "metadata": {
    "_uuid": "12e43e91a057e13e2200f1e5a64ed5916a548de8"
   },
   "outputs": [
    {
     "name": "stdout",
     "output_type": "stream",
     "text": [
      "linear_train_rmse 13.408351802213172\n",
      "Scores: [16.01181085 11.85147634 13.52834459 17.82237591 11.01185707 16.30916709\n",
      " 12.44789601 12.50009332 20.8719534   9.47630378]\n",
      "Mean: 14.18312783613998\n",
      "Standard deviation: 3.313136940693585\n"
     ]
    }
   ],
   "source": [
    "from sklearn.linear_model import LinearRegression\n",
    "from sklearn.metrics import mean_squared_error\n",
    "\n",
    "lin_reg = LinearRegression()\n",
    "lin_reg.fit(train, train_labels)\n",
    "\n",
    "area_predictions = lin_reg.predict(train)\n",
    "lin_mse = mean_squared_error(train_labels, area_predictions)\n",
    "lin_rmse = np.sqrt(lin_mse)\n",
    "print('linear_train_rmse', lin_rmse) #model might be underfitting\n",
    "\n",
    "from sklearn.model_selection import cross_val_score\n",
    "scores = cross_val_score(lin_reg, train, train_labels, scoring='neg_mean_squared_error', cv=10)\n",
    "lin_rmse_scores = np.sqrt(-scores)\n",
    "\n",
    "def explain_scores(scores):\n",
    "    print(\"Scores:\", scores)\n",
    "    print(\"Mean:\", scores.mean())\n",
    "    print(\"Standard deviation:\", scores.std())\n",
    " \n",
    "explain_scores(lin_rmse_scores)"
   ]
  },
  {
   "cell_type": "code",
   "execution_count": 31,
   "metadata": {},
   "outputs": [
    {
     "name": "stdout",
     "output_type": "stream",
     "text": [
      "5.37750137637236\n"
     ]
    },
    {
     "data": {
      "text/plain": [
       "[(0.13706526047299034, 'FFMC'),\n",
       " (3.0410393071098487, 'DMC'),\n",
       " (-6.395453844065765, 'DC'),\n",
       " (-0.4442754003851222, 'ISI'),\n",
       " (1.1442943657000244, 'temp'),\n",
       " (-0.6900735127190061, 'RH'),\n",
       " (1.2061688512147615, 'wind'),\n",
       " (0.00754749345015328, 'rain'),\n",
       " (-4.371487520918656, 'apr'),\n",
       " (-0.30694895964807983, 'aug'),\n",
       " (7.167353703600384, 'dec'),\n",
       " (-4.354413283542433, 'feb'),\n",
       " (-1.4786389180356843, 'jul'),\n",
       " (-3.5787801454855357, 'jun'),\n",
       " (-9.075392193246643, 'mar'),\n",
       " (10.276936276898406, 'oct'),\n",
       " (5.721371040378247, 'sep'),\n",
       " (-2.2896026314727833, 'fri'),\n",
       " (-1.4088217454180423, 'mon'),\n",
       " (1.5965913740630857, 'sat'),\n",
       " (1.9149860674249608, 'sun'),\n",
       " (-2.2147460510362986, 'thu'),\n",
       " (0.9594152017515183, 'tue'),\n",
       " (1.4421777846875659, 'wed')]"
      ]
     },
     "execution_count": 31,
     "metadata": {},
     "output_type": "execute_result"
    }
   ],
   "source": [
    "print(lin_reg.intercept_)\n",
    "list(zip(lin_reg.coef_,list(train_df)))"
   ]
  },
  {
   "cell_type": "code",
   "execution_count": 32,
   "metadata": {},
   "outputs": [
    {
     "name": "stdout",
     "output_type": "stream",
     "text": [
      "lasso_train_rmse 13.632711153279837\n",
      "Scores: [14.76159737 11.70221122 12.61163467 17.53382858 11.32943303 16.1623848\n",
      " 12.07727324 11.14561866 20.35831221  8.97274242]\n",
      "Mean: 13.665503620883303\n",
      "Standard deviation: 3.2940878589526905\n"
     ]
    }
   ],
   "source": [
    "from sklearn.linear_model import Lasso\n",
    "\n",
    "lasso_reg = Lasso(alpha=0.2)\n",
    "lasso_reg.fit(train, train_labels)\n",
    "\n",
    "area_predictions = lasso_reg.predict(train)\n",
    "lasso_mse = mean_squared_error(train_labels, area_predictions)\n",
    "lasso_rmse = np.sqrt(lasso_mse)\n",
    "print('lasso_train_rmse', lasso_rmse) #model obviously overfitting\n",
    "\n",
    "scores = cross_val_score(lasso_reg, train, train_labels, scoring='neg_mean_squared_error', cv=10)\n",
    "lasso_rmse_scores = np.sqrt(-scores)\n",
    "explain_scores(lasso_rmse_scores)"
   ]
  },
  {
   "cell_type": "code",
   "execution_count": 33,
   "metadata": {},
   "outputs": [
    {
     "name": "stdout",
     "output_type": "stream",
     "text": [
      "6.876116684654185\n"
     ]
    },
    {
     "data": {
      "text/plain": [
       "[(-1.189181416293179, 'fri'),\n",
       " (-1.1434256945659653, 'aug'),\n",
       " (-0.749010002239001, 'RH'),\n",
       " (-0.720253341308382, 'thu'),\n",
       " (-0.26850130061489136, 'mon'),\n",
       " (-0.06724753192182958, 'DC'),\n",
       " (0.0, 'FFMC'),\n",
       " (-0.0, 'ISI'),\n",
       " (0.0, 'apr'),\n",
       " (0.0, 'dec'),\n",
       " (0.0, 'feb'),\n",
       " (0.0, 'jul'),\n",
       " (0.0, 'jun'),\n",
       " (-0.0, 'mar'),\n",
       " (0.0, 'oct'),\n",
       " (0.0, 'rain'),\n",
       " (0.0, 'sat'),\n",
       " (0.0, 'sep'),\n",
       " (0.0, 'tue'),\n",
       " (0.0, 'wed'),\n",
       " (0.142378271979146, 'temp'),\n",
       " (0.527060191080769, 'DMC'),\n",
       " (0.8092297018607723, 'sun'),\n",
       " (0.9690491048188286, 'wind')]"
      ]
     },
     "execution_count": 33,
     "metadata": {},
     "output_type": "execute_result"
    }
   ],
   "source": [
    "print(lasso_reg.intercept_)\n",
    "sorted(list(zip(lasso_reg.coef_,list(train_df))))"
   ]
  },
  {
   "cell_type": "code",
   "execution_count": 34,
   "metadata": {},
   "outputs": [
    {
     "data": {
      "text/plain": [
       "1.0"
      ]
     },
     "execution_count": 34,
     "metadata": {},
     "output_type": "execute_result"
    }
   ],
   "source": [
    "lasso_reg.l1_ratio"
   ]
  },
  {
   "cell_type": "code",
   "execution_count": 37,
   "metadata": {},
   "outputs": [
    {
     "name": "stdout",
     "output_type": "stream",
     "text": [
      "lasso_train_rmse 13.632711153279837\n",
      "Scores: [14.76159737 11.70221122 12.61163467 17.53382858 11.32943303 16.1623848\n",
      " 12.07727324 11.14561866 20.35831221  8.97274242]\n",
      "Mean: 13.665503620883303\n",
      "Standard deviation: 3.2940878589526905\n"
     ]
    }
   ],
   "source": [
    "from sklearn.linear_model import ElasticNet #Doing Lasso with Elastic Net. Set l1_ratio to 1\n",
    "\n",
    "lasso_reg = ElasticNet(alpha=0.2, l1_ratio=1)\n",
    "lasso_reg.fit(train, train_labels)\n",
    "\n",
    "area_predictions = lasso_reg.predict(train)\n",
    "lasso_mse = mean_squared_error(train_labels, area_predictions)\n",
    "lasso_rmse = np.sqrt(lasso_mse)\n",
    "print('lasso_train_rmse', lasso_rmse) #model obviously overfitting\n",
    "\n",
    "scores = cross_val_score(lasso_reg, train, train_labels, scoring='neg_mean_squared_error', cv=10)\n",
    "lasso_rmse_scores = np.sqrt(-scores)\n",
    "explain_scores(lasso_rmse_scores)"
   ]
  },
  {
   "cell_type": "code",
   "execution_count": 40,
   "metadata": {},
   "outputs": [
    {
     "name": "stdout",
     "output_type": "stream",
     "text": [
      "el_train_rmse 13.585356521523996\n",
      "Scores: [15.0109558  11.71095382 12.63449025 17.47153675 11.25449924 16.0590026\n",
      " 12.03063513 11.11332922 20.32667566  8.96209524]\n",
      "Mean: 13.657417371349194\n",
      "Standard deviation: 3.2924179765984145\n"
     ]
    }
   ],
   "source": [
    "from sklearn.linear_model import ElasticNet #Somewhere between Lasso and Ridge\n",
    "\n",
    "el_reg = ElasticNet(alpha=0.2, l1_ratio=0.1)\n",
    "el_reg.fit(train, train_labels)\n",
    "\n",
    "area_predictions = el_reg.predict(train)\n",
    "el_mse = mean_squared_error(train_labels, area_predictions)\n",
    "el_rmse = np.sqrt(el_mse)\n",
    "print('el_train_rmse', el_rmse) #model obviously overfitting\n",
    "\n",
    "scores = cross_val_score(el_reg, train, train_labels, scoring='neg_mean_squared_error', cv=10)\n",
    "el_rmse_scores = np.sqrt(-scores)\n",
    "explain_scores(el_rmse_scores)"
   ]
  },
  {
   "cell_type": "code",
   "execution_count": 58,
   "metadata": {
    "_uuid": "2b2261fe403dda6274c0539b404dfba01416e869"
   },
   "outputs": [
    {
     "name": "stdout",
     "output_type": "stream",
     "text": [
      "tree_train_rmse 3.7388655197800307\n",
      "Scores: [15.44848304 25.7014435  17.40077987 19.82365894 16.61245399 21.5840565\n",
      " 18.74808167 21.11456904 19.96089887 21.48171053]\n",
      "Mean: 19.787613594598252\n",
      "Standard deviation: 2.8026770761845556\n"
     ]
    }
   ],
   "source": [
    "from sklearn.tree import DecisionTreeRegressor\n",
    "\n",
    "tree_reg = DecisionTreeRegressor()\n",
    "tree_reg.fit(train, train_labels)\n",
    "\n",
    "area_predictions = tree_reg.predict(train)\n",
    "tree_mse = mean_squared_error(train_labels, area_predictions)\n",
    "tree_rmse = np.sqrt(tree_mse)\n",
    "print('tree_train_rmse', tree_rmse) #model obviously overfitting\n",
    "\n",
    "scores = cross_val_score(tree_reg, train, train_labels, scoring='neg_mean_squared_error', cv=10)\n",
    "tree_rmse_scores = np.sqrt(-scores)\n",
    "explain_scores(tree_rmse_scores)"
   ]
  },
  {
   "cell_type": "code",
   "execution_count": 59,
   "metadata": {
    "_uuid": "15a37f691287233e3a0815e912a25b076810a439"
   },
   "outputs": [
    {
     "name": "stderr",
     "output_type": "stream",
     "text": [
      "C:\\Anaconda3\\lib\\site-packages\\sklearn\\ensemble\\forest.py:248: FutureWarning: The default value of n_estimators will change from 10 in version 0.20 to 100 in 0.22.\n",
      "  \"10 in version 0.20 to 100 in 0.22.\", FutureWarning)\n"
     ]
    },
    {
     "name": "stdout",
     "output_type": "stream",
     "text": [
      "rf_train_rmse 7.480208409598105\n",
      "Scores: [15.36835099 18.67363606 13.71484389 18.01760683 13.14780073 17.42868498\n",
      " 14.26371387 13.15505374 22.05850956 15.64956598]\n",
      "Mean: 16.147776663359682\n",
      "Standard deviation: 2.7337618575617157\n"
     ]
    }
   ],
   "source": [
    "from sklearn.ensemble import RandomForestRegressor\n",
    "\n",
    "rf_reg = RandomForestRegressor()\n",
    "rf_reg.fit(train, train_labels)\n",
    "\n",
    "area_predictions = rf_reg.predict(train)\n",
    "rf_mse = mean_squared_error(train_labels, area_predictions)\n",
    "rf_rmse = np.sqrt(rf_mse)\n",
    "print('rf_train_rmse', rf_rmse) #model is overfitting \n",
    "\n",
    "scores = cross_val_score(rf_reg, train, train_labels, scoring='neg_mean_squared_error', cv=10)\n",
    "rf_rmse_scores = np.sqrt(-scores)\n",
    "explain_scores(rf_rmse_scores)"
   ]
  },
  {
   "cell_type": "code",
   "execution_count": 60,
   "metadata": {
    "_uuid": "ac4d7144f76aacd7b30262ec286c2c29be7964d2"
   },
   "outputs": [
    {
     "name": "stdout",
     "output_type": "stream",
     "text": [
      "svm_train_rmse 14.733283759783474\n",
      "Scores: [16.27139224 11.47787044 13.33049909 18.73071215 12.32326765 17.80343673\n",
      " 11.84191105 11.59399797 21.52286507  8.19784989]\n",
      "Mean: 14.309380229983105\n",
      "Standard deviation: 3.8906717758894844\n"
     ]
    }
   ],
   "source": [
    "from sklearn.svm import SVR\n",
    "\n",
    "svm_reg = SVR(kernel='linear')\n",
    "svm_reg.fit(train, train_labels)\n",
    "\n",
    "area_predictions = svm_reg.predict(train)\n",
    "svm_mse = mean_squared_error(train_labels, area_predictions)\n",
    "svm_rmse = np.sqrt(svm_mse)\n",
    "print('svm_train_rmse', svm_rmse) #svm is generalizing well to crossvalidation set\n",
    "\n",
    "scores = cross_val_score(svm_reg, train, train_labels, scoring='neg_mean_squared_error', cv=10)\n",
    "svm_rmse_scores = np.sqrt(-scores)\n",
    "explain_scores(svm_rmse_scores)"
   ]
  },
  {
   "cell_type": "code",
   "execution_count": 61,
   "metadata": {
    "_uuid": "25da8cef377368e92ab994c76c03ef90e0627155"
   },
   "outputs": [
    {
     "name": "stdout",
     "output_type": "stream",
     "text": [
      "knn_train_rmse 12.264732235560627\n",
      "Scores: [15.44431282 13.26958344 14.2681095  18.89717775 12.73927185 17.07379813\n",
      " 13.14335727 12.84071475 21.89010291 11.89887815]\n",
      "Mean: 15.146530657284037\n",
      "Standard deviation: 3.0547068841305847\n"
     ]
    }
   ],
   "source": [
    "from sklearn.neighbors import KNeighborsRegressor\n",
    "\n",
    "knn_reg = KNeighborsRegressor()\n",
    "knn_reg.fit(train, train_labels)\n",
    "\n",
    "area_predictions = knn_reg.predict(train)\n",
    "knn_mse = mean_squared_error(train_labels, area_predictions)\n",
    "knn_rmse = np.sqrt(knn_mse)\n",
    "print('knn_train_rmse', knn_rmse) #overfiiting\n",
    "\n",
    "scores = cross_val_score(knn_reg, train, train_labels, scoring='neg_mean_squared_error', cv=10)\n",
    "knn_rmse_scores = np.sqrt(-scores)\n",
    "explain_scores(knn_rmse_scores)"
   ]
  },
  {
   "cell_type": "code",
   "execution_count": 62,
   "metadata": {
    "_uuid": "019e1844a8a3d2f5acaf0c8f1c309c7d13feedc3"
   },
   "outputs": [
    {
     "data": {
      "text/plain": [
       "GridSearchCV(cv=5, error_score='raise-deprecating',\n",
       "       estimator=RandomForestRegressor(bootstrap=True, criterion='mse', max_depth=None,\n",
       "           max_features='auto', max_leaf_nodes=None,\n",
       "           min_impurity_decrease=0.0, min_impurity_split=None,\n",
       "           min_samples_leaf=1, min_samples_split=2,\n",
       "           min_weight_fraction_leaf=0.0, n_estimators='warn', n_jobs=None,\n",
       "           oob_score=False, random_state=None, verbose=0, warm_start=False),\n",
       "       fit_params=None, iid='warn', n_jobs=None,\n",
       "       param_grid=[{'bootstrap': [False, True], 'n_estimators': [75, 100, 125, 150, 200], 'max_features': [1, 2, 4, 6]}],\n",
       "       pre_dispatch='2*n_jobs', refit=True, return_train_score=True,\n",
       "       scoring='neg_mean_squared_error', verbose=0)"
      ]
     },
     "execution_count": 62,
     "metadata": {},
     "output_type": "execute_result"
    }
   ],
   "source": [
    "#lets improve the models with hyperparameter tuning\n",
    "\n",
    "from sklearn.model_selection import GridSearchCV\n",
    "\n",
    "param_grid = [{'bootstrap':[False,True],'n_estimators':[75,100,125,150,200], 'max_features':[1,2,4,6]}]\n",
    "\n",
    "forest_reg = RandomForestRegressor()\n",
    "\n",
    "grid_search = GridSearchCV(forest_reg, param_grid, cv=5, scoring='neg_mean_squared_error', return_train_score=True)\n",
    "\n",
    "grid_search.fit(train, train_labels)"
   ]
  },
  {
   "cell_type": "code",
   "execution_count": 63,
   "metadata": {
    "_uuid": "a9bd990f9d524d3f343341a0618aaa100f135555"
   },
   "outputs": [
    {
     "data": {
      "text/plain": [
       "{'bootstrap': True, 'max_features': 1, 'n_estimators': 150}"
      ]
     },
     "execution_count": 63,
     "metadata": {},
     "output_type": "execute_result"
    }
   ],
   "source": [
    "grid_search.best_params_ "
   ]
  },
  {
   "cell_type": "code",
   "execution_count": 64,
   "metadata": {
    "_uuid": "712466236493c941a3caf6b259234aebb56e8cb9"
   },
   "outputs": [
    {
     "data": {
      "text/plain": [
       "RandomForestRegressor(bootstrap=True, criterion='mse', max_depth=None,\n",
       "           max_features=1, max_leaf_nodes=None, min_impurity_decrease=0.0,\n",
       "           min_impurity_split=None, min_samples_leaf=1,\n",
       "           min_samples_split=2, min_weight_fraction_leaf=0.0,\n",
       "           n_estimators=150, n_jobs=None, oob_score=False,\n",
       "           random_state=None, verbose=0, warm_start=False)"
      ]
     },
     "execution_count": 64,
     "metadata": {},
     "output_type": "execute_result"
    }
   ],
   "source": [
    "grid_search.best_estimator_"
   ]
  },
  {
   "cell_type": "code",
   "execution_count": 65,
   "metadata": {
    "_uuid": "a5aaf18d8cc61502f1ac467433add328271d7a3c"
   },
   "outputs": [
    {
     "data": {
      "text/plain": [
       "[(0.16348768363566143, 'DC'),\n",
       " (0.1525415732231983, 'ISI'),\n",
       " (0.11545976759240541, 'temp'),\n",
       " (0.10747394473091786, 'Y'),\n",
       " (0.10051016947092617, 'FFMC'),\n",
       " (0.09901617753544563, 'DMC'),\n",
       " (0.0808509371640317, 'X'),\n",
       " (0.020251671933524725, 'rain'),\n",
       " (0.01860502619779396, 'mon'),\n",
       " (0.017366040964195056, 'fri'),\n",
       " (0.01699037864097778, 'thu'),\n",
       " (0.016591601707891757, 'sun'),\n",
       " (0.012200505832604461, 'dec'),\n",
       " (0.01193869673625687, 'feb'),\n",
       " (0.011658879475312483, 'mar'),\n",
       " (0.010867763829849433, 'oct'),\n",
       " (0.008918437902890953, 'sat'),\n",
       " (0.007955101780758396, 'sep'),\n",
       " (0.0069098012026777515, 'jul'),\n",
       " (0.00607886050607399, 'wind'),\n",
       " (0.004426122301089191, 'aug'),\n",
       " (0.004255270655560373, 'jun'),\n",
       " (0.0029547084728835495, 'RH'),\n",
       " (0.002690878507072856, 'apr')]"
      ]
     },
     "execution_count": 65,
     "metadata": {},
     "output_type": "execute_result"
    }
   ],
   "source": [
    "feature_importances = grid_search.best_estimator_.feature_importances_\n",
    "attributes = numerical_attributes + list(full_pipeline.named_transformers_.cat.categories_[0]) +\\\n",
    "             list(full_pipeline.named_transformers_.cat.categories_[1])\n",
    "    \n",
    "sorted(zip(feature_importances, attributes), reverse=True)"
   ]
  },
  {
   "cell_type": "code",
   "execution_count": 66,
   "metadata": {
    "_uuid": "f1ac7b33bd95e55bb0e5da639a73eddd91a5ce08"
   },
   "outputs": [
    {
     "data": {
      "image/png": "[encoded data removed]",
      "text/plain": [
       "<Figure size 864x576 with 1 Axes>"
      ]
     },
     "metadata": {},
     "output_type": "display_data"
    }
   ],
   "source": [
    "indices = np.argsort(feature_importances)\n",
    "plt.figure(figsize=(12,8))\n",
    "plt.title('Feature Importances')\n",
    "plt.barh(range(len(indices)), feature_importances[indices], color='lightblue', align='center')\n",
    "plt.yticks(range(len(indices)), [attributes[i] for i in indices])\n",
    "plt.xlabel('Relative Importance')\n",
    "plt.show()"
   ]
  },
  {
   "cell_type": "code",
   "execution_count": 67,
   "metadata": {
    "_uuid": "e8dae4e65bcf2924828306df1a521e931145bfb5"
   },
   "outputs": [
    {
     "data": {
      "text/plain": [
       "RandomizedSearchCV(cv=5, error_score='raise-deprecating',\n",
       "          estimator=RandomForestRegressor(bootstrap=True, criterion='mse', max_depth=None,\n",
       "           max_features='auto', max_leaf_nodes=None,\n",
       "           min_impurity_decrease=0.0, min_impurity_split=None,\n",
       "           min_samples_leaf=1, min_samples_split=2,\n",
       "           min_weight_fraction_leaf=0.0, n_estimators='warn', n_jobs=None,\n",
       "           oob_score=False, random_state=42, verbose=0, warm_start=False),\n",
       "          fit_params=None, iid='warn', n_iter=40, n_jobs=None,\n",
       "          param_distributions={'n_estimators': <scipy.stats._distn_infrastructure.rv_frozen object at 0x0000024917397390>, 'max_features': <scipy.stats._distn_infrastructure.rv_frozen object at 0x00000249173A3CF8>},\n",
       "          pre_dispatch='2*n_jobs', random_state=42, refit=True,\n",
       "          return_train_score='warn', scoring='neg_mean_squared_error',\n",
       "          verbose=0)"
      ]
     },
     "execution_count": 67,
     "metadata": {},
     "output_type": "execute_result"
    }
   ],
   "source": [
    "#lets try with RandomizedSearchCV\n",
    "\n",
    "from sklearn.model_selection import RandomizedSearchCV\n",
    "from scipy.stats import randint\n",
    "\n",
    "param_dist = {'n_estimators': randint(low=10, high=250),\n",
    "              'max_features': randint(low=1, high=24),\n",
    "             }\n",
    "\n",
    "forest_reg = RandomForestRegressor(random_state=42)\n",
    "rnd_search = RandomizedSearchCV(forest_reg, param_dist, n_iter=40, cv=5, scoring='neg_mean_squared_error', random_state=42)\n",
    "\n",
    "rnd_search.fit(train, train_labels)\n"
   ]
  },
  {
   "cell_type": "code",
   "execution_count": 68,
   "metadata": {
    "_uuid": "b552485608d74b20e511bccc7c043fa0ec92d391"
   },
   "outputs": [
    {
     "data": {
      "text/plain": [
       "{'max_features': 4, 'n_estimators': 98}"
      ]
     },
     "execution_count": 68,
     "metadata": {},
     "output_type": "execute_result"
    }
   ],
   "source": [
    "rnd_search.best_params_"
   ]
  },
  {
   "cell_type": "code",
   "execution_count": 69,
   "metadata": {
    "_uuid": "62d963dd75db733deb8813a2c998dbdc788bfeed"
   },
   "outputs": [
    {
     "data": {
      "text/plain": [
       "(14.899327797269214, 14.804179010968438)"
      ]
     },
     "execution_count": 69,
     "metadata": {},
     "output_type": "execute_result"
    }
   ],
   "source": [
    "np.sqrt(-rnd_search.best_score_), np.sqrt(-grid_search.best_score_) #both have very similar scores even though they came up with \n",
    "#different best parameters. which one to use, I leave to you explain"
   ]
  },
  {
   "cell_type": "code",
   "execution_count": 70,
   "metadata": {
    "_uuid": "79e50967840fe3e39ca234c6ad4e1f62b11091bc"
   },
   "outputs": [
    {
     "name": "stdout",
     "output_type": "stream",
     "text": [
      "Fitting 5 folds for each of 21 candidates, totalling 105 fits\n"
     ]
    },
    {
     "name": "stderr",
     "output_type": "stream",
     "text": [
      "[Parallel(n_jobs=4)]: Using backend LokyBackend with 4 concurrent workers.\n",
      "[Parallel(n_jobs=4)]: Done  45 tasks      | elapsed:    9.5s\n",
      "[Parallel(n_jobs=4)]: Done 105 out of 105 | elapsed:   10.0s finished\n"
     ]
    },
    {
     "data": {
      "text/plain": [
       "14.279281809880542"
      ]
     },
     "execution_count": 70,
     "metadata": {},
     "output_type": "execute_result"
    }
   ],
   "source": [
    "#tuning svr\n",
    "\n",
    "param_grid = [{'kernel': ['linear'], 'C':[0.5,1,5,10,30]},\n",
    "              {'kernel':['rbf'], 'C':[5,10,15,20], 'gamma':[0.5,1.0,1.5,2.0]},\n",
    "             ]\n",
    "\n",
    "svm_reg = SVR()\n",
    "grid_search = GridSearchCV(svm_reg, param_grid, cv=5, scoring='neg_mean_squared_error', verbose=1, n_jobs=4)\n",
    "grid_search.fit(train,train_labels)\n",
    "\n",
    "negative_mse = grid_search.best_score_\n",
    "rmse = np.sqrt(-negative_mse)\n",
    "rmse"
   ]
  },
  {
   "cell_type": "code",
   "execution_count": 71,
   "metadata": {
    "_uuid": "7ccd58881f7a50ca5475be7e48e57df40a8d66fd"
   },
   "outputs": [
    {
     "data": {
      "text/plain": [
       "{'C': 10, 'gamma': 1.5, 'kernel': 'rbf'}"
      ]
     },
     "execution_count": 71,
     "metadata": {},
     "output_type": "execute_result"
    }
   ],
   "source": [
    "grid_search.best_params_"
   ]
  },
  {
   "cell_type": "code",
   "execution_count": 72,
   "metadata": {
    "_uuid": "32f1fcc1795e7b1e9aefebe0a7282eaf28da4300"
   },
   "outputs": [
    {
     "name": "stderr",
     "output_type": "stream",
     "text": [
      "[Parallel(n_jobs=4)]: Using backend LokyBackend with 4 concurrent workers.\n"
     ]
    },
    {
     "name": "stdout",
     "output_type": "stream",
     "text": [
      "Fitting 5 folds for each of 100 candidates, totalling 500 fits\n"
     ]
    },
    {
     "name": "stderr",
     "output_type": "stream",
     "text": [
      "[Parallel(n_jobs=4)]: Done 158 tasks      | elapsed:    5.0s\n",
      "[Parallel(n_jobs=4)]: Done 500 out of 500 | elapsed:   16.8s finished\n"
     ]
    },
    {
     "data": {
      "text/plain": [
       "14.287286738686518"
      ]
     },
     "execution_count": 72,
     "metadata": {},
     "output_type": "execute_result"
    }
   ],
   "source": [
    "from scipy.stats import expon, reciprocal\n",
    "\n",
    "param_dist = {'kernel':['linear','rbf'],\n",
    "                  'C':reciprocal(1,100),\n",
    "                  'gamma':expon(scale=1.0)}\n",
    "svm_reg = SVR()\n",
    "rnd_search = RandomizedSearchCV(svm_reg, param_distributions=param_dist, n_iter=100, cv=5,\n",
    "                               scoring='neg_mean_squared_error', verbose=2, n_jobs=4, random_state=42)\n",
    "rnd_search.fit(train, train_labels)\n",
    "\n",
    "negative_mse = rnd_search.best_score_\n",
    "rmse = np.sqrt(-negative_mse)\n",
    "rmse"
   ]
  },
  {
   "cell_type": "code",
   "execution_count": 73,
   "metadata": {
    "_uuid": "81985156f4e8e3647361711827ffefcb8f229064"
   },
   "outputs": [
    {
     "data": {
      "text/plain": [
       "{'C': 10.414253710293567, 'gamma': 1.0115156153275293, 'kernel': 'rbf'}"
      ]
     },
     "execution_count": 73,
     "metadata": {},
     "output_type": "execute_result"
    }
   ],
   "source": [
    "rnd_search.best_params_ #randomized search is able to find better parameters for rbf kernel in same number of iterations"
   ]
  },
  {
   "cell_type": "markdown",
   "metadata": {
    "_uuid": "6b09506cf04636bdb9a77bf6d5a430fd1af561de"
   },
   "source": [
    "#### At times it is a good idea to use only your best features in the model, but it is context dependent. Below sample code helps you add another transformer to your pipeline that chooses the best feature based on an estimated feature importance"
   ]
  },
  {
   "cell_type": "code",
   "execution_count": 74,
   "metadata": {
    "_uuid": "49850cbe0b9812922aeda297bbbdef746f49ee88"
   },
   "outputs": [],
   "source": [
    "def indices_top_features(impotance, top):\n",
    "    return np.sort(np.argpartition(np.array(impotance), -top)[-top:])\n",
    "\n",
    "class TopFeatureSelector(BaseEstimator, TransformerMixin):\n",
    "    def __init__(self, feature_importnaces, top):\n",
    "        self.feature_importnaces = feature_importances\n",
    "        self.top = top\n",
    "    def fit(self, X, y=None):\n",
    "        self.feature_indcies_ = indices_top_features(self.feature_importnaces, self.top)\n",
    "        return self\n",
    "    def transform(self,X):\n",
    "        return X[:, self.feature_indcies_]"
   ]
  },
  {
   "cell_type": "code",
   "execution_count": 75,
   "metadata": {
    "_uuid": "0b18558bc24e4a4b1d5c55dfac22f447a615ce5a"
   },
   "outputs": [],
   "source": [
    "data_prep_feature_seletion_pipe = Pipeline([('prep', full_pipeline),\n",
    "                                            ('fe_select', TopFeatureSelector(feature_importances,5)) #here am choosing top 5 features you can choose others depending on \n",
    "                                           ])                                                        #on what you want to keep  "
   ]
  },
  {
   "cell_type": "code",
   "execution_count": 76,
   "metadata": {
    "_uuid": "9909a4b16fd7adf6b80b97b09a5ae2c0a1bc617b"
   },
   "outputs": [
    {
     "name": "stderr",
     "output_type": "stream",
     "text": [
      "C:\\Anaconda3\\lib\\site-packages\\ipykernel_launcher.py:9: DeprecationWarning: in the future out of bounds indices will raise an error instead of being ignored by `numpy.delete`.\n",
      "  if __name__ == '__main__':\n"
     ]
    },
    {
     "data": {
      "text/plain": [
       "(400, 5)"
      ]
     },
     "execution_count": 76,
     "metadata": {},
     "output_type": "execute_result"
    }
   ],
   "source": [
    "train_fe_selected = data_prep_feature_seletion_pipe.fit_transform(forest_fire)\n",
    "train_fe_selected.shape"
   ]
  },
  {
   "cell_type": "code",
   "execution_count": 77,
   "metadata": {
    "_uuid": "8f3c37ae27ba216afaeccc967b345eceb8007d1d"
   },
   "outputs": [
    {
     "name": "stdout",
     "output_type": "stream",
     "text": [
      "knn_train_rmse 12.410643353186812\n",
      "Scores: [15.82385426 13.66648182 14.32809107 19.03754417 12.9068144  17.30360238\n",
      " 13.26014549 10.96969598 21.70251846  9.79899367]\n",
      "Mean: 14.879774169263836\n",
      "Standard deviation: 3.464077990130809\n"
     ]
    }
   ],
   "source": [
    "#now let's try knn with these reduced dimensions \n",
    "\n",
    "knn_reg = KNeighborsRegressor()\n",
    "knn_reg.fit(train_fe_selected, train_labels)\n",
    "\n",
    "area_predictions = knn_reg.predict(train_fe_selected)\n",
    "knn_mse = mean_squared_error(train_labels, area_predictions)\n",
    "knn_rmse = np.sqrt(knn_mse)\n",
    "print('knn_train_rmse', knn_rmse) #knn is generalizing well to crossvalidation set\n",
    "\n",
    "scores = cross_val_score(knn_reg, train_fe_selected, train_labels, scoring='neg_mean_squared_error', cv=10)\n",
    "knn_rmse_scores = np.sqrt(-scores)\n",
    "explain_scores(knn_rmse_scores)"
   ]
  },
  {
   "cell_type": "code",
   "execution_count": 78,
   "metadata": {
    "_uuid": "d755807363ae47111bdb00e3f79ef9f503df9ef8"
   },
   "outputs": [
    {
     "name": "stderr",
     "output_type": "stream",
     "text": [
      "[Parallel(n_jobs=4)]: Using backend LokyBackend with 4 concurrent workers.\n"
     ]
    },
    {
     "name": "stdout",
     "output_type": "stream",
     "text": [
      "Fitting 5 folds for each of 14 candidates, totalling 70 fits\n"
     ]
    },
    {
     "name": "stderr",
     "output_type": "stream",
     "text": [
      "[Parallel(n_jobs=4)]: Done  70 out of  70 | elapsed:    0.4s finished\n"
     ]
    },
    {
     "data": {
      "text/plain": [
       "14.12515060556197"
      ]
     },
     "execution_count": 78,
     "metadata": {},
     "output_type": "execute_result"
    }
   ],
   "source": [
    "#lets tune KNN \n",
    "param_grid = {'weights': ['uniform', 'distance'], 'n_neighbors': list(range(1,36,5))}\n",
    "\n",
    "knn_reg= KNeighborsRegressor()\n",
    "knn_grid_search = GridSearchCV(knn_reg, param_grid, cv=5, scoring='neg_mean_squared_error', verbose=1, n_jobs=4)\n",
    "knn_grid_search.fit(train_fe_selected,train_labels)\n",
    "\n",
    "knn_negative_mse = knn_grid_search.best_score_\n",
    "knn_rmse = np.sqrt(-knn_negative_mse)\n",
    "knn_rmse"
   ]
  },
  {
   "cell_type": "code",
   "execution_count": 79,
   "metadata": {
    "_uuid": "bad5fc17332b100444e58eb220533a29a33cc414"
   },
   "outputs": [
    {
     "name": "stdout",
     "output_type": "stream",
     "text": [
      "xgb_train_rmse 9.510023888294025\n",
      "Scores: [15.10031759 17.85561218 13.47592171 17.49411289 12.31912452 16.28012249\n",
      " 12.59937269 12.42109479 21.30372835 12.44402188]\n",
      "Mean: 15.12934290926716\n",
      "Standard deviation: 2.8991427729342276\n"
     ]
    }
   ],
   "source": [
    "#and for final model I want to try GBM\n",
    "from xgboost import XGBRegressor\n",
    "\n",
    "xgb_reg = XGBRegressor()\n",
    "xgb_reg.fit(train_fe_selected, train_labels)\n",
    "\n",
    "area_predictions = xgb_reg.predict(train_fe_selected)\n",
    "xgb_mse = mean_squared_error(train_labels, area_predictions)\n",
    "xgb_rmse = np.sqrt(xgb_mse)\n",
    "print('xgb_train_rmse', xgb_rmse) #overfitting\n",
    "\n",
    "scores = cross_val_score(xgb_reg, train_fe_selected, train_labels, scoring='neg_mean_squared_error', cv=10)\n",
    "xgb_rmse_scores = np.sqrt(-scores)\n",
    "explain_scores(xgb_rmse_scores)"
   ]
  },
  {
   "cell_type": "code",
   "execution_count": 80,
   "metadata": {
    "_uuid": "0ac280e2f05355e71467eb0052faae991d317268"
   },
   "outputs": [
    {
     "name": "stdout",
     "output_type": "stream",
     "text": [
      "Fitting 5 folds for each of 216 candidates, totalling 1080 fits\n"
     ]
    },
    {
     "name": "stderr",
     "output_type": "stream",
     "text": [
      "[Parallel(n_jobs=4)]: Using backend LokyBackend with 4 concurrent workers.\n",
      "[Parallel(n_jobs=4)]: Done 716 tasks      | elapsed:    5.8s\n",
      "[Parallel(n_jobs=4)]: Done 1080 out of 1080 | elapsed:    7.6s finished\n"
     ]
    },
    {
     "data": {
      "text/plain": [
       "14.279281809880542"
      ]
     },
     "execution_count": 80,
     "metadata": {},
     "output_type": "execute_result"
    }
   ],
   "source": [
    "param_grid = {'objective':['reg:linear'],\n",
    "              'learning_rate': [0.02,0.03,0.04], \n",
    "              'max_depth': [1,2],\n",
    "              'min_child_weight': [2,3,4],\n",
    "              'silent': [1],\n",
    "              'subsample': [0.8],\n",
    "              'colsample_bytree': [0.2,0.3,0.4],\n",
    "              'n_estimators': [50,60,70,100]}\n",
    "\n",
    "xgb_reg = XGBRegressor()\n",
    "\n",
    "xgb_grid_search = GridSearchCV(xgb_reg, param_grid, cv=5, scoring='neg_mean_squared_error', verbose=1, n_jobs=4)\n",
    "xgb_grid_search.fit(train_fe_selected,train_labels)\n",
    "\n",
    "xgb_negative_mse = grid_search.best_score_\n",
    "xgb_rmse = np.sqrt(-xgb_negative_mse)\n",
    "xgb_rmse"
   ]
  },
  {
   "cell_type": "code",
   "execution_count": 81,
   "metadata": {
    "_uuid": "e498ac79eb8c252b8b6c8dcaa91b5ac08a2f00a7"
   },
   "outputs": [
    {
     "data": {
      "text/plain": [
       "{'colsample_bytree': 0.2,\n",
       " 'learning_rate': 0.03,\n",
       " 'max_depth': 1,\n",
       " 'min_child_weight': 4,\n",
       " 'n_estimators': 60,\n",
       " 'objective': 'reg:linear',\n",
       " 'silent': 1,\n",
       " 'subsample': 0.8}"
      ]
     },
     "execution_count": 81,
     "metadata": {},
     "output_type": "execute_result"
    }
   ],
   "source": [
    "xgb_grid_search.best_params_"
   ]
  },
  {
   "cell_type": "code",
   "execution_count": 82,
   "metadata": {
    "_uuid": "4922c95e3a16992987598435599080064a127460"
   },
   "outputs": [
    {
     "name": "stderr",
     "output_type": "stream",
     "text": [
      "C:\\Anaconda3\\lib\\site-packages\\ipykernel_launcher.py:9: DeprecationWarning: in the future out of bounds indices will raise an error instead of being ignored by `numpy.delete`.\n",
      "  if __name__ == '__main__':\n"
     ]
    },
    {
     "data": {
      "text/plain": [
       "13.5845575382228"
      ]
     },
     "execution_count": 82,
     "metadata": {},
     "output_type": "execute_result"
    }
   ],
   "source": [
    "final_model = knn_grid_search.best_estimator_\n",
    "\n",
    "X_test = st_test_set.drop(['area'], axis=1)\n",
    "y_test = st_test_set['area'].copy()\n",
    "\n",
    "X_test_prepared = data_prep_feature_seletion_pipe.transform(X_test)\n",
    "\n",
    "final_predictions = final_model.predict(X_test_prepared)\n",
    "\n",
    "final_mse = mean_squared_error(y_test, final_predictions)\n",
    "final_rmse = np.sqrt(final_mse)\n",
    "final_rmse"
   ]
  },
  {
   "cell_type": "markdown",
   "metadata": {
    "_uuid": "b8cd42355186197b8e72bb3b2ded1479aedc141d"
   },
   "source": [
    "### Let's say, I determined to deploy XGB model. I will add a predictor to my previously defined Pipeline as the last element., which will take care of the entire process from preparing the data to predicting area."
   ]
  },
  {
   "cell_type": "code",
   "execution_count": 83,
   "metadata": {
    "_uuid": "1ba2eff28a2891fd0b09752986917ce3fb3a0d17"
   },
   "outputs": [],
   "source": [
    "prepare_select_and_predict_pipeline = Pipeline([\n",
    "    ('preparation', full_pipeline),\n",
    "    ('feature_selection', TopFeatureSelector(feature_importances, 5)),\n",
    "    ('final_model', XGBRegressor(**xgb_grid_search.best_params_))\n",
    "])"
   ]
  },
  {
   "cell_type": "code",
   "execution_count": 84,
   "metadata": {
    "_uuid": "92a3ac99080093c4e966efbbbb0c51a918adc89e"
   },
   "outputs": [
    {
     "name": "stderr",
     "output_type": "stream",
     "text": [
      "C:\\Anaconda3\\lib\\site-packages\\ipykernel_launcher.py:9: DeprecationWarning: in the future out of bounds indices will raise an error instead of being ignored by `numpy.delete`.\n",
      "  if __name__ == '__main__':\n"
     ]
    },
    {
     "data": {
      "text/plain": [
       "Pipeline(memory=None,\n",
       "     steps=[('preparation', ColumnTransformer(n_jobs=None, remainder='drop', sparse_threshold=0.3,\n",
       "         transformer_weights=None,\n",
       "         transformers=[('num', Pipeline(memory=None,\n",
       "     steps=[('imputer', SimpleImputer(copy=True, fill_value=None, missing_values=nan,\n",
       "       strategy='median', verbos...,\n",
       "       reg_alpha=0, reg_lambda=1, scale_pos_weight=1, seed=None, silent=1,\n",
       "       subsample=0.8))])"
      ]
     },
     "execution_count": 84,
     "metadata": {},
     "output_type": "execute_result"
    }
   ],
   "source": [
    "prepare_select_and_predict_pipeline.fit(forest_fire,forest_fire_labels)"
   ]
  },
  {
   "cell_type": "code",
   "execution_count": 85,
   "metadata": {
    "_uuid": "2c53411d0fe3b06b4553a37a900fee2cc0cfb9ce"
   },
   "outputs": [
    {
     "name": "stderr",
     "output_type": "stream",
     "text": [
      "C:\\Anaconda3\\lib\\site-packages\\ipykernel_launcher.py:9: DeprecationWarning: in the future out of bounds indices will raise an error instead of being ignored by `numpy.delete`.\n",
      "  if __name__ == '__main__':\n"
     ]
    }
   ],
   "source": [
    "final_predictions = prepare_select_and_predict_pipeline.predict(X_test)"
   ]
  },
  {
   "cell_type": "markdown",
   "metadata": {
    "_uuid": "5e59f9e64e283d40c0a29d06aee62a79b6bd515e"
   },
   "source": [
    "### An example showing a small use case. Let's assume some_data here are the new data that our system will predict for."
   ]
  },
  {
   "cell_type": "code",
   "execution_count": 86,
   "metadata": {
    "_uuid": "2d6d8b3c5cb70a90a8af5a4d62597cd974066b79"
   },
   "outputs": [
    {
     "name": "stdout",
     "output_type": "stream",
     "text": [
      "Predictions:\t [4.4410906 4.4410906 4.581033  5.4276505]\n",
      "Labels:\t\t [8.12, 1.58, 13.7, 4.41]\n"
     ]
    },
    {
     "name": "stderr",
     "output_type": "stream",
     "text": [
      "C:\\Anaconda3\\lib\\site-packages\\ipykernel_launcher.py:9: DeprecationWarning: in the future out of bounds indices will raise an error instead of being ignored by `numpy.delete`.\n",
      "  if __name__ == '__main__':\n"
     ]
    }
   ],
   "source": [
    "some_data = forest_fire[:4]\n",
    "some_labels = forest_fire_labels[:4]\n",
    "\n",
    "print(\"Predictions:\\t\", prepare_select_and_predict_pipeline.predict(some_data))\n",
    "print(\"Labels:\\t\\t\", list(some_labels))"
   ]
  },
  {
   "cell_type": "code",
   "execution_count": 87,
   "metadata": {
    "_uuid": "2c1ea28d5ef2c0021c8748b75c1ff85d366af796"
   },
   "outputs": [
    {
     "data": {
      "text/plain": [
       "array([ 4.67278737, 18.8395253 ])"
      ]
     },
     "execution_count": 87,
     "metadata": {},
     "output_type": "execute_result"
    }
   ],
   "source": [
    "#Confidence Interval of our Predictions will help us better understand the ouput of our model\n",
    "from scipy import stats\n",
    "\n",
    "confidence = 0.95\n",
    "squared_errors = (final_predictions-y_test)**2\n",
    "np.sqrt(stats.t.interval(confidence, len(squared_errors)-1, loc=squared_errors.mean(), scale=stats.sem(squared_errors)))"
   ]
  },
  {
   "cell_type": "code",
   "execution_count": 95,
   "metadata": {
    "_uuid": "40254096c6b647c83bb2d1187ec893856a621825"
   },
   "outputs": [
    {
     "name": "stderr",
     "output_type": "stream",
     "text": [
      "C:\\Anaconda3\\lib\\site-packages\\ipykernel_launcher.py:9: DeprecationWarning: in the future out of bounds indices will raise an error instead of being ignored by `numpy.delete`.\n",
      "  if __name__ == '__main__':\n"
     ]
    },
    {
     "data": {
      "text/plain": [
       "13.76719820334556"
      ]
     },
     "execution_count": 95,
     "metadata": {},
     "output_type": "execute_result"
    }
   ],
   "source": [
    "final_model = lasso_reg.fit(train_fe_selected,train_labels)\n",
    "X_test = st_test_set.drop(['area'], axis=1)\n",
    "y_test = st_test_set['area'].copy()\n",
    "\n",
    "X_test_prepared = data_prep_feature_seletion_pipe.transform(X_test)\n",
    "\n",
    "final_predictions = final_model.predict(X_test_prepared)\n",
    "\n",
    "final_mse = mean_squared_error(y_test, final_predictions)\n",
    "final_rmse = np.sqrt(final_mse)\n",
    "final_rmse"
   ]
  },
  {
   "cell_type": "code",
   "execution_count": null,
   "metadata": {},
   "outputs": [],
   "source": []
  }
 ],
 "metadata": {
  "kernelspec": {
   "display_name": "Python 3",
   "language": "python",
   "name": "python3"
  },
  "language_info": {
   "codemirror_mode": {
    "name": "ipython",
    "version": 3
   },
   "file_extension": ".py",
   "mimetype": "text/x-python",
   "name": "python",
   "nbconvert_exporter": "python",
   "pygments_lexer": "ipython3",
   "version": "3.6.5"
  }
 },
 "nbformat": 4,
 "nbformat_minor": 1
}
